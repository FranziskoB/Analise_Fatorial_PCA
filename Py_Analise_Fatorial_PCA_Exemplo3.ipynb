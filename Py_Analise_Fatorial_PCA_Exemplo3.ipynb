{
  "nbformat": 4,
  "nbformat_minor": 0,
  "metadata": {
    "colab": {
      "provenance": [],
      "authorship_tag": "ABX9TyPoahrqOROYcPp72Y7lOyDm",
      "include_colab_link": true
    },
    "kernelspec": {
      "name": "python3",
      "display_name": "Python 3"
    },
    "language_info": {
      "name": "python"
    }
  },
  "cells": [
    {
      "cell_type": "markdown",
      "metadata": {
        "id": "view-in-github",
        "colab_type": "text"
      },
      "source": [
        "<a href=\"https://colab.research.google.com/github/FranziskoB/Analise_Fatorial_PCA/blob/main/Py_Analise_Fatorial_PCA_Exemplo3.ipynb\" target=\"_parent\"><img src=\"https://colab.research.google.com/assets/colab-badge.svg\" alt=\"Open In Colab\"/></a>"
      ]
    },
    {
      "cell_type": "markdown",
      "source": [
        "#Análises fatoriais e PCA"
      ],
      "metadata": {
        "id": "_JkjATgdbOqm"
      }
    },
    {
      "cell_type": "markdown",
      "source": [
        "Dataset contém dados de indicadores de desenvolvimento de paises em 2 anos distintos. Vai ser criado um ranking apartir dos dados para efeito de comparação entre os resultados obtidos nos dois anos e será verificado se houve alguma mudança no ranking de paises de um ano para o outro.\n",
        "\n"
      ],
      "metadata": {
        "id": "g54fQW9gbVI2"
      }
    },
    {
      "cell_type": "markdown",
      "source": [
        "##Importando bibliotecas"
      ],
      "metadata": {
        "id": "G_itTHfMbXrH"
      }
    },
    {
      "cell_type": "code",
      "execution_count": null,
      "metadata": {
        "id": "Qhr0Wfh9bH5K",
        "colab": {
          "base_uri": "https://localhost:8080/"
        },
        "outputId": "29496ff1-ee92-4b47-ae66-7f5c01b64d1c"
      },
      "outputs": [
        {
          "output_type": "stream",
          "name": "stdout",
          "text": [
            "Looking in indexes: https://pypi.org/simple, https://us-python.pkg.dev/colab-wheels/public/simple/\n",
            "Requirement already satisfied: spicy in /usr/local/lib/python3.8/dist-packages (0.16.0)\n",
            "Requirement already satisfied: scipy in /usr/local/lib/python3.8/dist-packages (from spicy) (1.7.3)\n",
            "Requirement already satisfied: numpy<1.23.0,>=1.16.5 in /usr/local/lib/python3.8/dist-packages (from scipy->spicy) (1.21.6)\n",
            "Looking in indexes: https://pypi.org/simple, https://us-python.pkg.dev/colab-wheels/public/simple/\n",
            "Requirement already satisfied: factor_analyzer in /usr/local/lib/python3.8/dist-packages (0.4.1)\n",
            "Requirement already satisfied: scipy in /usr/local/lib/python3.8/dist-packages (from factor_analyzer) (1.7.3)\n",
            "Requirement already satisfied: numpy in /usr/local/lib/python3.8/dist-packages (from factor_analyzer) (1.21.6)\n",
            "Requirement already satisfied: pandas in /usr/local/lib/python3.8/dist-packages (from factor_analyzer) (1.3.5)\n",
            "Requirement already satisfied: scikit-learn in /usr/local/lib/python3.8/dist-packages (from factor_analyzer) (1.0.2)\n",
            "Requirement already satisfied: pre-commit in /usr/local/lib/python3.8/dist-packages (from factor_analyzer) (2.21.0)\n",
            "Requirement already satisfied: pytz>=2017.3 in /usr/local/lib/python3.8/dist-packages (from pandas->factor_analyzer) (2022.7)\n",
            "Requirement already satisfied: python-dateutil>=2.7.3 in /usr/local/lib/python3.8/dist-packages (from pandas->factor_analyzer) (2.8.2)\n",
            "Requirement already satisfied: virtualenv>=20.10.0 in /usr/local/lib/python3.8/dist-packages (from pre-commit->factor_analyzer) (20.17.1)\n",
            "Requirement already satisfied: identify>=1.0.0 in /usr/local/lib/python3.8/dist-packages (from pre-commit->factor_analyzer) (2.5.13)\n",
            "Requirement already satisfied: nodeenv>=0.11.1 in /usr/local/lib/python3.8/dist-packages (from pre-commit->factor_analyzer) (1.7.0)\n",
            "Requirement already satisfied: cfgv>=2.0.0 in /usr/local/lib/python3.8/dist-packages (from pre-commit->factor_analyzer) (3.3.1)\n",
            "Requirement already satisfied: pyyaml>=5.1 in /usr/local/lib/python3.8/dist-packages (from pre-commit->factor_analyzer) (6.0)\n",
            "Requirement already satisfied: threadpoolctl>=2.0.0 in /usr/local/lib/python3.8/dist-packages (from scikit-learn->factor_analyzer) (3.1.0)\n",
            "Requirement already satisfied: joblib>=0.11 in /usr/local/lib/python3.8/dist-packages (from scikit-learn->factor_analyzer) (1.2.0)\n",
            "Requirement already satisfied: setuptools in /usr/local/lib/python3.8/dist-packages (from nodeenv>=0.11.1->pre-commit->factor_analyzer) (57.4.0)\n",
            "Requirement already satisfied: six>=1.5 in /usr/local/lib/python3.8/dist-packages (from python-dateutil>=2.7.3->pandas->factor_analyzer) (1.15.0)\n",
            "Requirement already satisfied: platformdirs<3,>=2.4 in /usr/local/lib/python3.8/dist-packages (from virtualenv>=20.10.0->pre-commit->factor_analyzer) (2.6.2)\n",
            "Requirement already satisfied: filelock<4,>=3.4.1 in /usr/local/lib/python3.8/dist-packages (from virtualenv>=20.10.0->pre-commit->factor_analyzer) (3.9.0)\n",
            "Requirement already satisfied: distlib<1,>=0.3.6 in /usr/local/lib/python3.8/dist-packages (from virtualenv>=20.10.0->pre-commit->factor_analyzer) (0.3.6)\n",
            "Looking in indexes: https://pypi.org/simple, https://us-python.pkg.dev/colab-wheels/public/simple/\n",
            "Requirement already satisfied: pingouin in /usr/local/lib/python3.8/dist-packages (0.5.3)\n",
            "Requirement already satisfied: statsmodels>=0.13 in /usr/local/lib/python3.8/dist-packages (from pingouin) (0.13.5)\n",
            "Requirement already satisfied: pandas>=1.0 in /usr/local/lib/python3.8/dist-packages (from pingouin) (1.3.5)\n",
            "Requirement already satisfied: outdated in /usr/local/lib/python3.8/dist-packages (from pingouin) (0.2.2)\n",
            "Requirement already satisfied: numpy>=1.19 in /usr/local/lib/python3.8/dist-packages (from pingouin) (1.21.6)\n",
            "Requirement already satisfied: scipy>=1.7 in /usr/local/lib/python3.8/dist-packages (from pingouin) (1.7.3)\n",
            "Requirement already satisfied: scikit-learn in /usr/local/lib/python3.8/dist-packages (from pingouin) (1.0.2)\n",
            "Requirement already satisfied: pandas-flavor>=0.2.0 in /usr/local/lib/python3.8/dist-packages (from pingouin) (0.3.0)\n",
            "Requirement already satisfied: matplotlib>=3.0.2 in /usr/local/lib/python3.8/dist-packages (from pingouin) (3.2.2)\n",
            "Requirement already satisfied: tabulate in /usr/local/lib/python3.8/dist-packages (from pingouin) (0.8.10)\n",
            "Requirement already satisfied: seaborn>=0.11 in /usr/local/lib/python3.8/dist-packages (from pingouin) (0.11.2)\n",
            "Requirement already satisfied: kiwisolver>=1.0.1 in /usr/local/lib/python3.8/dist-packages (from matplotlib>=3.0.2->pingouin) (1.4.4)\n",
            "Requirement already satisfied: cycler>=0.10 in /usr/local/lib/python3.8/dist-packages (from matplotlib>=3.0.2->pingouin) (0.11.0)\n",
            "Requirement already satisfied: python-dateutil>=2.1 in /usr/local/lib/python3.8/dist-packages (from matplotlib>=3.0.2->pingouin) (2.8.2)\n",
            "Requirement already satisfied: pyparsing!=2.0.4,!=2.1.2,!=2.1.6,>=2.0.1 in /usr/local/lib/python3.8/dist-packages (from matplotlib>=3.0.2->pingouin) (3.0.9)\n",
            "Requirement already satisfied: pytz>=2017.3 in /usr/local/lib/python3.8/dist-packages (from pandas>=1.0->pingouin) (2022.7)\n",
            "Requirement already satisfied: xarray in /usr/local/lib/python3.8/dist-packages (from pandas-flavor>=0.2.0->pingouin) (2022.12.0)\n",
            "Requirement already satisfied: lazy-loader==0.1rc2 in /usr/local/lib/python3.8/dist-packages (from pandas-flavor>=0.2.0->pingouin) (0.1rc2)\n",
            "Requirement already satisfied: packaging>=21.3 in /usr/local/lib/python3.8/dist-packages (from statsmodels>=0.13->pingouin) (21.3)\n",
            "Requirement already satisfied: patsy>=0.5.2 in /usr/local/lib/python3.8/dist-packages (from statsmodels>=0.13->pingouin) (0.5.3)\n",
            "Requirement already satisfied: littleutils in /usr/local/lib/python3.8/dist-packages (from outdated->pingouin) (0.2.2)\n",
            "Requirement already satisfied: requests in /usr/local/lib/python3.8/dist-packages (from outdated->pingouin) (2.25.1)\n",
            "Requirement already satisfied: setuptools>=44 in /usr/local/lib/python3.8/dist-packages (from outdated->pingouin) (57.4.0)\n",
            "Requirement already satisfied: threadpoolctl>=2.0.0 in /usr/local/lib/python3.8/dist-packages (from scikit-learn->pingouin) (3.1.0)\n",
            "Requirement already satisfied: joblib>=0.11 in /usr/local/lib/python3.8/dist-packages (from scikit-learn->pingouin) (1.2.0)\n",
            "Requirement already satisfied: six in /usr/local/lib/python3.8/dist-packages (from patsy>=0.5.2->statsmodels>=0.13->pingouin) (1.15.0)\n",
            "Requirement already satisfied: idna<3,>=2.5 in /usr/local/lib/python3.8/dist-packages (from requests->outdated->pingouin) (2.10)\n",
            "Requirement already satisfied: urllib3<1.27,>=1.21.1 in /usr/local/lib/python3.8/dist-packages (from requests->outdated->pingouin) (1.24.3)\n",
            "Requirement already satisfied: chardet<5,>=3.0.2 in /usr/local/lib/python3.8/dist-packages (from requests->outdated->pingouin) (4.0.0)\n",
            "Requirement already satisfied: certifi>=2017.4.17 in /usr/local/lib/python3.8/dist-packages (from requests->outdated->pingouin) (2022.12.7)\n"
          ]
        }
      ],
      "source": [
        "!pip install spicy\n",
        "!pip install factor_analyzer\n",
        "!pip install pingouin"
      ]
    },
    {
      "cell_type": "code",
      "source": [
        "import pandas as pd\n",
        "from factor_analyzer import FactorAnalyzer\n",
        "from factor_analyzer.factor_analyzer import calculate_bartlett_sphericity\n",
        "import pingouin as pg\n",
        "import seaborn as sns\n",
        "import numpy as np\n",
        "import matplotlib.pyplot as plt"
      ],
      "metadata": {
        "id": "L7B4J9oPfpJ2"
      },
      "execution_count": null,
      "outputs": []
    },
    {
      "cell_type": "markdown",
      "source": [
        "##Carregamento da base de dados"
      ],
      "metadata": {
        "id": "0gb-yNUQbN5L"
      }
    },
    {
      "cell_type": "code",
      "source": [
        "base_indicador = pd.read_excel(\"https://github.com/FranziskoB/Analise_Fatorial_PCA/raw/main/Dados/indicador_pa%C3%ADs.xlsx\")\n",
        "base_indicador.head(5)"
      ],
      "metadata": {
        "colab": {
          "base_uri": "https://localhost:8080/",
          "height": 206
        },
        "id": "gz-NyzLSf1cm",
        "outputId": "97c0676a-a32d-4561-cac3-e9455deafe95"
      },
      "execution_count": null,
      "outputs": [
        {
          "output_type": "execute_result",
          "data": {
            "text/plain": [
              "        país  cpi1  violência1  pib_capita1  escol1  cpi2  violência2  \\\n",
              "0  Argentina   2.9      5.8836   10749.3193     9.7   2.9      5.2538   \n",
              "1  Australia   8.7      0.7800   25190.8398    11.8   8.7      0.7800   \n",
              "2    Austria   7.9      0.7077   26642.9941    11.8   7.9      0.8094   \n",
              "3    Belgium   7.1      1.6349   24550.3965    12.0   7.1      1.3524   \n",
              "4     Brazil   3.7     25.0808    4716.6143     6.7   3.7     24.4085   \n",
              "\n",
              "   pib_capita2  escol2  \n",
              "0   11601.6299     9.8  \n",
              "1   25306.8242    11.9  \n",
              "2   27266.4043    11.8  \n",
              "3   24733.6270    12.1  \n",
              "4    4803.3984     6.8  "
            ],
            "text/html": [
              "\n",
              "  <div id=\"df-8de1446b-a696-49bd-8a39-94e46e539cd8\">\n",
              "    <div class=\"colab-df-container\">\n",
              "      <div>\n",
              "<style scoped>\n",
              "    .dataframe tbody tr th:only-of-type {\n",
              "        vertical-align: middle;\n",
              "    }\n",
              "\n",
              "    .dataframe tbody tr th {\n",
              "        vertical-align: top;\n",
              "    }\n",
              "\n",
              "    .dataframe thead th {\n",
              "        text-align: right;\n",
              "    }\n",
              "</style>\n",
              "<table border=\"1\" class=\"dataframe\">\n",
              "  <thead>\n",
              "    <tr style=\"text-align: right;\">\n",
              "      <th></th>\n",
              "      <th>país</th>\n",
              "      <th>cpi1</th>\n",
              "      <th>violência1</th>\n",
              "      <th>pib_capita1</th>\n",
              "      <th>escol1</th>\n",
              "      <th>cpi2</th>\n",
              "      <th>violência2</th>\n",
              "      <th>pib_capita2</th>\n",
              "      <th>escol2</th>\n",
              "    </tr>\n",
              "  </thead>\n",
              "  <tbody>\n",
              "    <tr>\n",
              "      <th>0</th>\n",
              "      <td>Argentina</td>\n",
              "      <td>2.9</td>\n",
              "      <td>5.8836</td>\n",
              "      <td>10749.3193</td>\n",
              "      <td>9.7</td>\n",
              "      <td>2.9</td>\n",
              "      <td>5.2538</td>\n",
              "      <td>11601.6299</td>\n",
              "      <td>9.8</td>\n",
              "    </tr>\n",
              "    <tr>\n",
              "      <th>1</th>\n",
              "      <td>Australia</td>\n",
              "      <td>8.7</td>\n",
              "      <td>0.7800</td>\n",
              "      <td>25190.8398</td>\n",
              "      <td>11.8</td>\n",
              "      <td>8.7</td>\n",
              "      <td>0.7800</td>\n",
              "      <td>25306.8242</td>\n",
              "      <td>11.9</td>\n",
              "    </tr>\n",
              "    <tr>\n",
              "      <th>2</th>\n",
              "      <td>Austria</td>\n",
              "      <td>7.9</td>\n",
              "      <td>0.7077</td>\n",
              "      <td>26642.9941</td>\n",
              "      <td>11.8</td>\n",
              "      <td>7.9</td>\n",
              "      <td>0.8094</td>\n",
              "      <td>27266.4043</td>\n",
              "      <td>11.8</td>\n",
              "    </tr>\n",
              "    <tr>\n",
              "      <th>3</th>\n",
              "      <td>Belgium</td>\n",
              "      <td>7.1</td>\n",
              "      <td>1.6349</td>\n",
              "      <td>24550.3965</td>\n",
              "      <td>12.0</td>\n",
              "      <td>7.1</td>\n",
              "      <td>1.3524</td>\n",
              "      <td>24733.6270</td>\n",
              "      <td>12.1</td>\n",
              "    </tr>\n",
              "    <tr>\n",
              "      <th>4</th>\n",
              "      <td>Brazil</td>\n",
              "      <td>3.7</td>\n",
              "      <td>25.0808</td>\n",
              "      <td>4716.6143</td>\n",
              "      <td>6.7</td>\n",
              "      <td>3.7</td>\n",
              "      <td>24.4085</td>\n",
              "      <td>4803.3984</td>\n",
              "      <td>6.8</td>\n",
              "    </tr>\n",
              "  </tbody>\n",
              "</table>\n",
              "</div>\n",
              "      <button class=\"colab-df-convert\" onclick=\"convertToInteractive('df-8de1446b-a696-49bd-8a39-94e46e539cd8')\"\n",
              "              title=\"Convert this dataframe to an interactive table.\"\n",
              "              style=\"display:none;\">\n",
              "        \n",
              "  <svg xmlns=\"http://www.w3.org/2000/svg\" height=\"24px\"viewBox=\"0 0 24 24\"\n",
              "       width=\"24px\">\n",
              "    <path d=\"M0 0h24v24H0V0z\" fill=\"none\"/>\n",
              "    <path d=\"M18.56 5.44l.94 2.06.94-2.06 2.06-.94-2.06-.94-.94-2.06-.94 2.06-2.06.94zm-11 1L8.5 8.5l.94-2.06 2.06-.94-2.06-.94L8.5 2.5l-.94 2.06-2.06.94zm10 10l.94 2.06.94-2.06 2.06-.94-2.06-.94-.94-2.06-.94 2.06-2.06.94z\"/><path d=\"M17.41 7.96l-1.37-1.37c-.4-.4-.92-.59-1.43-.59-.52 0-1.04.2-1.43.59L10.3 9.45l-7.72 7.72c-.78.78-.78 2.05 0 2.83L4 21.41c.39.39.9.59 1.41.59.51 0 1.02-.2 1.41-.59l7.78-7.78 2.81-2.81c.8-.78.8-2.07 0-2.86zM5.41 20L4 18.59l7.72-7.72 1.47 1.35L5.41 20z\"/>\n",
              "  </svg>\n",
              "      </button>\n",
              "      \n",
              "  <style>\n",
              "    .colab-df-container {\n",
              "      display:flex;\n",
              "      flex-wrap:wrap;\n",
              "      gap: 12px;\n",
              "    }\n",
              "\n",
              "    .colab-df-convert {\n",
              "      background-color: #E8F0FE;\n",
              "      border: none;\n",
              "      border-radius: 50%;\n",
              "      cursor: pointer;\n",
              "      display: none;\n",
              "      fill: #1967D2;\n",
              "      height: 32px;\n",
              "      padding: 0 0 0 0;\n",
              "      width: 32px;\n",
              "    }\n",
              "\n",
              "    .colab-df-convert:hover {\n",
              "      background-color: #E2EBFA;\n",
              "      box-shadow: 0px 1px 2px rgba(60, 64, 67, 0.3), 0px 1px 3px 1px rgba(60, 64, 67, 0.15);\n",
              "      fill: #174EA6;\n",
              "    }\n",
              "\n",
              "    [theme=dark] .colab-df-convert {\n",
              "      background-color: #3B4455;\n",
              "      fill: #D2E3FC;\n",
              "    }\n",
              "\n",
              "    [theme=dark] .colab-df-convert:hover {\n",
              "      background-color: #434B5C;\n",
              "      box-shadow: 0px 1px 3px 1px rgba(0, 0, 0, 0.15);\n",
              "      filter: drop-shadow(0px 1px 2px rgba(0, 0, 0, 0.3));\n",
              "      fill: #FFFFFF;\n",
              "    }\n",
              "  </style>\n",
              "\n",
              "      <script>\n",
              "        const buttonEl =\n",
              "          document.querySelector('#df-8de1446b-a696-49bd-8a39-94e46e539cd8 button.colab-df-convert');\n",
              "        buttonEl.style.display =\n",
              "          google.colab.kernel.accessAllowed ? 'block' : 'none';\n",
              "\n",
              "        async function convertToInteractive(key) {\n",
              "          const element = document.querySelector('#df-8de1446b-a696-49bd-8a39-94e46e539cd8');\n",
              "          const dataTable =\n",
              "            await google.colab.kernel.invokeFunction('convertToInteractive',\n",
              "                                                     [key], {});\n",
              "          if (!dataTable) return;\n",
              "\n",
              "          const docLinkHtml = 'Like what you see? Visit the ' +\n",
              "            '<a target=\"_blank\" href=https://colab.research.google.com/notebooks/data_table.ipynb>data table notebook</a>'\n",
              "            + ' to learn more about interactive tables.';\n",
              "          element.innerHTML = '';\n",
              "          dataTable['output_type'] = 'display_data';\n",
              "          await google.colab.output.renderOutput(dataTable, element);\n",
              "          const docLink = document.createElement('div');\n",
              "          docLink.innerHTML = docLinkHtml;\n",
              "          element.appendChild(docLink);\n",
              "        }\n",
              "      </script>\n",
              "    </div>\n",
              "  </div>\n",
              "  "
            ]
          },
          "metadata": {},
          "execution_count": 3
        }
      ]
    },
    {
      "cell_type": "markdown",
      "source": [
        "##Informações sobre as variáveis"
      ],
      "metadata": {
        "id": "_RFdJxRcbOCG"
      }
    },
    {
      "cell_type": "code",
      "source": [
        "print(base_indicador.info())\n",
        "print(base_indicador.describe())"
      ],
      "metadata": {
        "colab": {
          "base_uri": "https://localhost:8080/"
        },
        "id": "3pM3g7RBgG_d",
        "outputId": "ff3153d6-63ad-4b86-b12e-1862377ed48a"
      },
      "execution_count": null,
      "outputs": [
        {
          "output_type": "stream",
          "name": "stdout",
          "text": [
            "<class 'pandas.core.frame.DataFrame'>\n",
            "RangeIndex: 50 entries, 0 to 49\n",
            "Data columns (total 9 columns):\n",
            " #   Column       Non-Null Count  Dtype  \n",
            "---  ------       --------------  -----  \n",
            " 0   país         50 non-null     object \n",
            " 1   cpi1         50 non-null     float64\n",
            " 2   violência1   50 non-null     float64\n",
            " 3   pib_capita1  50 non-null     float64\n",
            " 4   escol1       50 non-null     float64\n",
            " 5   cpi2         50 non-null     float64\n",
            " 6   violência2   50 non-null     float64\n",
            " 7   pib_capita2  50 non-null     float64\n",
            " 8   escol2       50 non-null     float64\n",
            "dtypes: float64(8), object(1)\n",
            "memory usage: 3.6+ KB\n",
            "None\n",
            "            cpi1  violência1   pib_capita1    escol1       cpi2  violência2  \\\n",
            "count  50.000000   50.000000     50.000000  50.00000  50.000000   50.000000   \n",
            "mean    5.518000    7.092374  15091.204106  10.25800   5.500000    6.645060   \n",
            "std     2.374154   13.207847  12281.213696   2.34626   2.361079   12.592332   \n",
            "min     1.900000    0.459600    794.801300   6.10000   2.000000    0.435000   \n",
            "25%     3.525000    0.897225   3994.237550   8.20000   3.500000    0.902000   \n",
            "50%     4.950000    1.616700  11546.507800  10.60000   5.000000    1.656200   \n",
            "75%     7.700000    6.450225  25362.916500  12.27500   7.750000    6.134375   \n",
            "max     9.400000   70.847500  39971.789100  14.10000   9.300000   70.847500   \n",
            "\n",
            "        pib_capita2     escol2  \n",
            "count     50.000000  50.000000  \n",
            "mean   15294.015810  10.350000  \n",
            "std    12371.638318   2.332228  \n",
            "min      837.746400   6.200000  \n",
            "25%     4069.669950   8.300000  \n",
            "50%    11651.563000  10.650000  \n",
            "75%    25776.672875  12.375000  \n",
            "max    40034.851600  14.200000  \n"
          ]
        }
      ]
    },
    {
      "cell_type": "markdown",
      "source": [
        "##Matriz de correlaçãoes\n",
        "Primero ano"
      ],
      "metadata": {
        "id": "cdLLhvVKhDfH"
      }
    },
    {
      "cell_type": "code",
      "source": [
        "base_indicador_pca_1 = base_indicador[['cpi1','escol1','pib_capita1','violência1']]\n",
        "corr = base_indicador_pca_1.corr()\n",
        "\n",
        "f, ax = plt.subplots(figsize=(11, 9))\n",
        "\n",
        "mask = np.triu(np.ones_like(corr, dtype=bool))\n",
        "\n",
        "cmap = sns.diverging_palette(230, 20, n=256, as_cmap=True)\n",
        "\n",
        "sns.heatmap(base_indicador_pca_1.corr(), \n",
        "            mask=mask, \n",
        "            cmap=cmap, \n",
        "            vmax=1, \n",
        "            vmin = -.25,\n",
        "            center=0,\n",
        "            square=True, \n",
        "            linewidths=.5,\n",
        "            annot = True,\n",
        "            fmt='.3f', \n",
        "            annot_kws={'size': 16},\n",
        "            cbar_kws={\"shrink\": .75})\n",
        "\n",
        "plt.title('Matriz de correlação primeiro ano')\n",
        "plt.tight_layout()\n",
        "ax.tick_params(axis = 'x', labelsize = 14)\n",
        "ax.tick_params(axis = 'y', labelsize = 14)\n",
        "ax.set_ylim(len(corr))\n",
        "\n",
        "plt.show()"
      ],
      "metadata": {
        "colab": {
          "base_uri": "https://localhost:8080/",
          "height": 661
        },
        "id": "gD3qcH9yhTu5",
        "outputId": "393c81ea-4261-4ce0-e05a-55ac039022d5"
      },
      "execution_count": null,
      "outputs": [
        {
          "output_type": "display_data",
          "data": {
            "text/plain": [
              "<Figure size 792x648 with 2 Axes>"
            ],
            "image/png": "[encoded data removed]"
          },
          "metadata": {
            "needs_background": "light"
          }
        }
      ]
    },
    {
      "cell_type": "markdown",
      "source": [
        "Segundo ano"
      ],
      "metadata": {
        "id": "rvGNWju8Y4Us"
      }
    },
    {
      "cell_type": "code",
      "source": [
        "base_indicador_pca_2 = base_indicador[['cpi2','escol2','pib_capita2','violência2']]\n",
        "corr = base_indicador_pca_2.corr()\n",
        "\n",
        "f, ax = plt.subplots(figsize=(11, 9))\n",
        "\n",
        "mask = np.triu(np.ones_like(corr, dtype=bool))\n",
        "\n",
        "cmap = sns.diverging_palette(230, 20, n=256, as_cmap=True)\n",
        "\n",
        "sns.heatmap(base_indicador_pca_2.corr(), \n",
        "            mask=mask, \n",
        "            cmap=cmap, \n",
        "            vmax=1, \n",
        "            vmin = -.25,\n",
        "            center=0,\n",
        "            square=True, \n",
        "            linewidths=.5,\n",
        "            annot = True,\n",
        "            fmt='.3f', \n",
        "            annot_kws={'size': 16},\n",
        "            cbar_kws={\"shrink\": .75})\n",
        "\n",
        "plt.title('Matriz de correlação Segundo ano')\n",
        "plt.tight_layout()\n",
        "ax.tick_params(axis = 'x', labelsize = 14)\n",
        "ax.tick_params(axis = 'y', labelsize = 14)\n",
        "ax.set_ylim(len(corr))\n",
        "\n",
        "plt.show()"
      ],
      "metadata": {
        "colab": {
          "base_uri": "https://localhost:8080/",
          "height": 661
        },
        "id": "aUkWGtNzY3LE",
        "outputId": "b79450c5-4139-4d03-bae1-a0544e0d09c5"
      },
      "execution_count": null,
      "outputs": [
        {
          "output_type": "display_data",
          "data": {
            "text/plain": [
              "<Figure size 792x648 with 2 Axes>"
            ],
            "image/png": "[encoded data removed]"
          },
          "metadata": {
            "needs_background": "light"
          }
        }
      ]
    },
    {
      "cell_type": "markdown",
      "source": [
        "##Teste de Bartlett"
      ],
      "metadata": {
        "id": "wWUUfNz1hYj9"
      }
    },
    {
      "cell_type": "code",
      "source": [
        "bartlett, p_value = calculate_bartlett_sphericity(base_indicador_pca_2)\n",
        "\n",
        "print(f'Bartlett statistic: {bartlett}')\n",
        "\n",
        "print(f'p-value : {p_value}')#Ano 1"
      ],
      "metadata": {
        "colab": {
          "base_uri": "https://localhost:8080/"
        },
        "id": "W_UE-dhLhcte",
        "outputId": "320c2015-9ed1-4c27-a71a-181c4368cca5"
      },
      "execution_count": null,
      "outputs": [
        {
          "output_type": "stream",
          "name": "stdout",
          "text": [
            "Bartlett statistic: 86.48323533730881\n",
            "p-value : 1.6265142943134136e-16\n"
          ]
        }
      ]
    },
    {
      "cell_type": "code",
      "source": [
        "bartlett, p_value = calculate_bartlett_sphericity(base_indicador_pca_2)\n",
        "\n",
        "print(f'Bartlett statistic: {bartlett}')\n",
        "\n",
        "print(f'p-value : {p_value}')#Ano 2"
      ],
      "metadata": {
        "colab": {
          "base_uri": "https://localhost:8080/"
        },
        "id": "VkrotfLiZIQp",
        "outputId": "9da45b7c-5f81-4f9f-d5c0-f3fd34b4005b"
      },
      "execution_count": null,
      "outputs": [
        {
          "output_type": "stream",
          "name": "stdout",
          "text": [
            "Bartlett statistic: 86.48323533730881\n",
            "p-value : 1.6265142943134136e-16\n"
          ]
        }
      ]
    },
    {
      "cell_type": "markdown",
      "source": [
        "##PCA"
      ],
      "metadata": {
        "id": "ueXk9HE4hhUF"
      }
    },
    {
      "cell_type": "markdown",
      "source": [
        "Definindo a PCA (procedimento preliminar)"
      ],
      "metadata": {
        "id": "ezJxFQ1WhzLg"
      }
    },
    {
      "cell_type": "code",
      "source": [
        "fa1 = FactorAnalyzer()\n",
        "fa1.fit(base_indicador_pca_1)\n",
        "fa2 = FactorAnalyzer()\n",
        "fa2.fit(base_indicador_pca_2)"
      ],
      "metadata": {
        "colab": {
          "base_uri": "https://localhost:8080/"
        },
        "id": "0ngHEV2khxB7",
        "outputId": "ec386cf0-004f-44ca-971b-932a5f118c52"
      },
      "execution_count": null,
      "outputs": [
        {
          "output_type": "execute_result",
          "data": {
            "text/plain": [
              "FactorAnalyzer(rotation_kwargs={})"
            ]
          },
          "metadata": {},
          "execution_count": 9
        }
      ]
    },
    {
      "cell_type": "markdown",
      "source": [
        "Obtendo os Eigenvalues (autovalores)"
      ],
      "metadata": {
        "id": "yq_euCbLh2iO"
      }
    },
    {
      "cell_type": "code",
      "source": [
        "ev1, v1 = fa1.get_eigenvalues()#Ano 1\n",
        "print(ev1)"
      ],
      "metadata": {
        "colab": {
          "base_uri": "https://localhost:8080/"
        },
        "id": "JEdFRYlxh3EZ",
        "outputId": "5a3f9b0e-c5b7-4e25-fab8-e51988586749"
      },
      "execution_count": null,
      "outputs": [
        {
          "output_type": "stream",
          "name": "stdout",
          "text": [
            "[2.5887211  0.72989475 0.53565237 0.14573178]\n"
          ]
        }
      ]
    },
    {
      "cell_type": "code",
      "source": [
        "ev2, v2 = fa2.get_eigenvalues()#Ano 2\n",
        "print(ev2)"
      ],
      "metadata": {
        "colab": {
          "base_uri": "https://localhost:8080/"
        },
        "id": "RaHBpuk8Z1s-",
        "outputId": "3eb60ca9-d6ab-4a9d-fbf8-6fd4fdd872db"
      },
      "execution_count": null,
      "outputs": [
        {
          "output_type": "stream",
          "name": "stdout",
          "text": [
            "[2.56596625 0.73740672 0.54309917 0.15352786]\n"
          ]
        }
      ]
    },
    {
      "cell_type": "markdown",
      "source": [
        "Critério de Kaiser : \n",
        "* Verificar autovalores com valores maiores que 1\n",
        "* Existem 1 componente acima de 1"
      ],
      "metadata": {
        "id": "a9KvKXYUh-Eo"
      }
    },
    {
      "cell_type": "markdown",
      "source": [
        "Parametrizando a PCA para dois fatores (autovalores > 1)\n"
      ],
      "metadata": {
        "id": "zeDfhygBiMxV"
      }
    },
    {
      "cell_type": "code",
      "source": [
        "fa1.set_params(n_factors = 1, method = 'principal', rotation = None)\n",
        "fa1.fit(base_indicador_pca_1)#Ano 1"
      ],
      "metadata": {
        "colab": {
          "base_uri": "https://localhost:8080/"
        },
        "id": "9H9oOQ49iN7M",
        "outputId": "7cb0be5d-580c-471d-f632-c8cf13efd1cb"
      },
      "execution_count": null,
      "outputs": [
        {
          "output_type": "execute_result",
          "data": {
            "text/plain": [
              "FactorAnalyzer(method='principal', n_factors=1, rotation=None,\n",
              "               rotation_kwargs={})"
            ]
          },
          "metadata": {},
          "execution_count": 12
        }
      ]
    },
    {
      "cell_type": "code",
      "source": [
        "fa2.set_params(n_factors = 1, method = 'principal', rotation = None)\n",
        "fa2.fit(base_indicador_pca_2)#Ano 2"
      ],
      "metadata": {
        "colab": {
          "base_uri": "https://localhost:8080/"
        },
        "id": "g1YSFGALaVvM",
        "outputId": "637f541b-8adf-458a-a73e-ad531a23477f"
      },
      "execution_count": null,
      "outputs": [
        {
          "output_type": "execute_result",
          "data": {
            "text/plain": [
              "FactorAnalyzer(method='principal', n_factors=1, rotation=None,\n",
              "               rotation_kwargs={})"
            ]
          },
          "metadata": {},
          "execution_count": 13
        }
      ]
    },
    {
      "cell_type": "markdown",
      "source": [
        "Eigenvalues, variâncias e variâncias acumulada\n"
      ],
      "metadata": {
        "id": "hcJRyntQiRts"
      }
    },
    {
      "cell_type": "code",
      "source": [
        "eigen_fatores1 = fa1.get_factor_variance()\n",
        "eigen_fatores1\n",
        "\n",
        "tabela_eigen1 = pd.DataFrame(eigen_fatores1)\n",
        "tabela_eigen1.columns = [f\"Ano 1 Fator {i+1}\" for i, v in enumerate(tabela_eigen1.columns)]\n",
        "tabela_eigen1.index = ['Autovalor','Variância', 'Variância Acumulada']\n",
        "tabela_eigen1 = tabela_eigen1.T\n",
        "print(tabela_eigen1)#Ano 1"
      ],
      "metadata": {
        "colab": {
          "base_uri": "https://localhost:8080/"
        },
        "id": "rlLRP53QiRNV",
        "outputId": "8fe854a8-03c8-43aa-eff7-2f647379033f"
      },
      "execution_count": null,
      "outputs": [
        {
          "output_type": "stream",
          "name": "stdout",
          "text": [
            "               Autovalor  Variância  Variância Acumulada\n",
            "Ano 1 Fator 1   2.588721    0.64718              0.64718\n"
          ]
        }
      ]
    },
    {
      "cell_type": "code",
      "source": [
        "eigen_fatores2 = fa2.get_factor_variance()\n",
        "eigen_fatores2\n",
        "\n",
        "tabela_eigen2 = pd.DataFrame(eigen_fatores2)\n",
        "tabela_eigen2.columns = [f\"Ano 2 Fator {i+1}\" for i, v in enumerate(tabela_eigen2.columns)]\n",
        "tabela_eigen2.index = ['Autovalor','Variância', 'Variância Acumulada']\n",
        "tabela_eigen2 = tabela_eigen2.T\n",
        "print(tabela_eigen2)#Ano 2"
      ],
      "metadata": {
        "colab": {
          "base_uri": "https://localhost:8080/"
        },
        "id": "6NJcpsfVajfj",
        "outputId": "87f5038e-745b-4bbc-f877-4ca8e15594ab"
      },
      "execution_count": null,
      "outputs": [
        {
          "output_type": "stream",
          "name": "stdout",
          "text": [
            "               Autovalor  Variância  Variância Acumulada\n",
            "Ano 2 Fator 1   2.565966   0.641492             0.641492\n"
          ]
        }
      ]
    },
    {
      "cell_type": "markdown",
      "source": [
        "Resultados dos fatores para as observações do dataset (predict)"
      ],
      "metadata": {
        "id": "ILaaNMQvip3R"
      }
    },
    {
      "cell_type": "code",
      "source": [
        "predict_fatores1= pd.DataFrame(fa1.transform(base_indicador_pca_1))\n",
        "predict_fatores1.columns =  [f\"Ano 1 Fator {i+1}\" for i, v in enumerate(predict_fatores1.columns)]\n",
        "print(predict_fatores1.head(5))#Ano 1"
      ],
      "metadata": {
        "colab": {
          "base_uri": "https://localhost:8080/"
        },
        "id": "2PE9lbaVire2",
        "outputId": "4139e2ab-e1a8-43db-d8f7-c163ec7f47a4"
      },
      "execution_count": null,
      "outputs": [
        {
          "output_type": "stream",
          "name": "stdout",
          "text": [
            "   Ano 1 Fator 1\n",
            "0       0.561206\n",
            "1      -1.071493\n",
            "2      -0.996483\n",
            "3      -0.825835\n",
            "4       1.342877\n"
          ]
        }
      ]
    },
    {
      "cell_type": "code",
      "source": [
        "predict_fatores2= pd.DataFrame(fa2.transform(base_indicador_pca_2))\n",
        "predict_fatores2.columns =  [f\"Ano 2 Fator {i+1}\" for i, v in enumerate(predict_fatores2.columns)]\n",
        "print(predict_fatores2.head(5))#Ano 2"
      ],
      "metadata": {
        "colab": {
          "base_uri": "https://localhost:8080/"
        },
        "id": "LOoGOep1awOX",
        "outputId": "27094d26-ef09-46dc-ee6c-95d22a911f16"
      },
      "execution_count": null,
      "outputs": [
        {
          "output_type": "stream",
          "name": "stdout",
          "text": [
            "   Ano 2 Fator 1\n",
            "0       0.539585\n",
            "1      -1.076836\n",
            "2      -1.000343\n",
            "3      -0.834912\n",
            "4       1.360426\n"
          ]
        }
      ]
    },
    {
      "cell_type": "markdown",
      "source": [
        "Adicionando ao dataset \n"
      ],
      "metadata": {
        "id": "uJgOMP9TiwtD"
      }
    },
    {
      "cell_type": "code",
      "source": [
        "base_indicador = pd.concat([base_indicador.reset_index(drop=True), predict_fatores1 ,predict_fatores2], axis=1)\n",
        "base_indicador.head(5)"
      ],
      "metadata": {
        "colab": {
          "base_uri": "https://localhost:8080/",
          "height": 206
        },
        "id": "F-8scOU-iyC5",
        "outputId": "ebf22899-ed2d-4937-9ac3-9363a3004bd9"
      },
      "execution_count": null,
      "outputs": [
        {
          "output_type": "execute_result",
          "data": {
            "text/plain": [
              "        país  cpi1  violência1  pib_capita1  escol1  cpi2  violência2  \\\n",
              "0  Argentina   2.9      5.8836   10749.3193     9.7   2.9      5.2538   \n",
              "1  Australia   8.7      0.7800   25190.8398    11.8   8.7      0.7800   \n",
              "2    Austria   7.9      0.7077   26642.9941    11.8   7.9      0.8094   \n",
              "3    Belgium   7.1      1.6349   24550.3965    12.0   7.1      1.3524   \n",
              "4     Brazil   3.7     25.0808    4716.6143     6.7   3.7     24.4085   \n",
              "\n",
              "   pib_capita2  escol2  Ano 1 Fator 1  Ano 2 Fator 1  \n",
              "0   11601.6299     9.8       0.561206       0.539585  \n",
              "1   25306.8242    11.9      -1.071493      -1.076836  \n",
              "2   27266.4043    11.8      -0.996483      -1.000343  \n",
              "3   24733.6270    12.1      -0.825835      -0.834912  \n",
              "4    4803.3984     6.8       1.342877       1.360426  "
            ],
            "text/html": [
              "\n",
              "  <div id=\"df-e401c52a-8f25-4912-98ba-3b7f391ebda7\">\n",
              "    <div class=\"colab-df-container\">\n",
              "      <div>\n",
              "<style scoped>\n",
              "    .dataframe tbody tr th:only-of-type {\n",
              "        vertical-align: middle;\n",
              "    }\n",
              "\n",
              "    .dataframe tbody tr th {\n",
              "        vertical-align: top;\n",
              "    }\n",
              "\n",
              "    .dataframe thead th {\n",
              "        text-align: right;\n",
              "    }\n",
              "</style>\n",
              "<table border=\"1\" class=\"dataframe\">\n",
              "  <thead>\n",
              "    <tr style=\"text-align: right;\">\n",
              "      <th></th>\n",
              "      <th>país</th>\n",
              "      <th>cpi1</th>\n",
              "      <th>violência1</th>\n",
              "      <th>pib_capita1</th>\n",
              "      <th>escol1</th>\n",
              "      <th>cpi2</th>\n",
              "      <th>violência2</th>\n",
              "      <th>pib_capita2</th>\n",
              "      <th>escol2</th>\n",
              "      <th>Ano 1 Fator 1</th>\n",
              "      <th>Ano 2 Fator 1</th>\n",
              "    </tr>\n",
              "  </thead>\n",
              "  <tbody>\n",
              "    <tr>\n",
              "      <th>0</th>\n",
              "      <td>Argentina</td>\n",
              "      <td>2.9</td>\n",
              "      <td>5.8836</td>\n",
              "      <td>10749.3193</td>\n",
              "      <td>9.7</td>\n",
              "      <td>2.9</td>\n",
              "      <td>5.2538</td>\n",
              "      <td>11601.6299</td>\n",
              "      <td>9.8</td>\n",
              "      <td>0.561206</td>\n",
              "      <td>0.539585</td>\n",
              "    </tr>\n",
              "    <tr>\n",
              "      <th>1</th>\n",
              "      <td>Australia</td>\n",
              "      <td>8.7</td>\n",
              "      <td>0.7800</td>\n",
              "      <td>25190.8398</td>\n",
              "      <td>11.8</td>\n",
              "      <td>8.7</td>\n",
              "      <td>0.7800</td>\n",
              "      <td>25306.8242</td>\n",
              "      <td>11.9</td>\n",
              "      <td>-1.071493</td>\n",
              "      <td>-1.076836</td>\n",
              "    </tr>\n",
              "    <tr>\n",
              "      <th>2</th>\n",
              "      <td>Austria</td>\n",
              "      <td>7.9</td>\n",
              "      <td>0.7077</td>\n",
              "      <td>26642.9941</td>\n",
              "      <td>11.8</td>\n",
              "      <td>7.9</td>\n",
              "      <td>0.8094</td>\n",
              "      <td>27266.4043</td>\n",
              "      <td>11.8</td>\n",
              "      <td>-0.996483</td>\n",
              "      <td>-1.000343</td>\n",
              "    </tr>\n",
              "    <tr>\n",
              "      <th>3</th>\n",
              "      <td>Belgium</td>\n",
              "      <td>7.1</td>\n",
              "      <td>1.6349</td>\n",
              "      <td>24550.3965</td>\n",
              "      <td>12.0</td>\n",
              "      <td>7.1</td>\n",
              "      <td>1.3524</td>\n",
              "      <td>24733.6270</td>\n",
              "      <td>12.1</td>\n",
              "      <td>-0.825835</td>\n",
              "      <td>-0.834912</td>\n",
              "    </tr>\n",
              "    <tr>\n",
              "      <th>4</th>\n",
              "      <td>Brazil</td>\n",
              "      <td>3.7</td>\n",
              "      <td>25.0808</td>\n",
              "      <td>4716.6143</td>\n",
              "      <td>6.7</td>\n",
              "      <td>3.7</td>\n",
              "      <td>24.4085</td>\n",
              "      <td>4803.3984</td>\n",
              "      <td>6.8</td>\n",
              "      <td>1.342877</td>\n",
              "      <td>1.360426</td>\n",
              "    </tr>\n",
              "  </tbody>\n",
              "</table>\n",
              "</div>\n",
              "      <button class=\"colab-df-convert\" onclick=\"convertToInteractive('df-e401c52a-8f25-4912-98ba-3b7f391ebda7')\"\n",
              "              title=\"Convert this dataframe to an interactive table.\"\n",
              "              style=\"display:none;\">\n",
              "        \n",
              "  <svg xmlns=\"http://www.w3.org/2000/svg\" height=\"24px\"viewBox=\"0 0 24 24\"\n",
              "       width=\"24px\">\n",
              "    <path d=\"M0 0h24v24H0V0z\" fill=\"none\"/>\n",
              "    <path d=\"M18.56 5.44l.94 2.06.94-2.06 2.06-.94-2.06-.94-.94-2.06-.94 2.06-2.06.94zm-11 1L8.5 8.5l.94-2.06 2.06-.94-2.06-.94L8.5 2.5l-.94 2.06-2.06.94zm10 10l.94 2.06.94-2.06 2.06-.94-2.06-.94-.94-2.06-.94 2.06-2.06.94z\"/><path d=\"M17.41 7.96l-1.37-1.37c-.4-.4-.92-.59-1.43-.59-.52 0-1.04.2-1.43.59L10.3 9.45l-7.72 7.72c-.78.78-.78 2.05 0 2.83L4 21.41c.39.39.9.59 1.41.59.51 0 1.02-.2 1.41-.59l7.78-7.78 2.81-2.81c.8-.78.8-2.07 0-2.86zM5.41 20L4 18.59l7.72-7.72 1.47 1.35L5.41 20z\"/>\n",
              "  </svg>\n",
              "      </button>\n",
              "      \n",
              "  <style>\n",
              "    .colab-df-container {\n",
              "      display:flex;\n",
              "      flex-wrap:wrap;\n",
              "      gap: 12px;\n",
              "    }\n",
              "\n",
              "    .colab-df-convert {\n",
              "      background-color: #E8F0FE;\n",
              "      border: none;\n",
              "      border-radius: 50%;\n",
              "      cursor: pointer;\n",
              "      display: none;\n",
              "      fill: #1967D2;\n",
              "      height: 32px;\n",
              "      padding: 0 0 0 0;\n",
              "      width: 32px;\n",
              "    }\n",
              "\n",
              "    .colab-df-convert:hover {\n",
              "      background-color: #E2EBFA;\n",
              "      box-shadow: 0px 1px 2px rgba(60, 64, 67, 0.3), 0px 1px 3px 1px rgba(60, 64, 67, 0.15);\n",
              "      fill: #174EA6;\n",
              "    }\n",
              "\n",
              "    [theme=dark] .colab-df-convert {\n",
              "      background-color: #3B4455;\n",
              "      fill: #D2E3FC;\n",
              "    }\n",
              "\n",
              "    [theme=dark] .colab-df-convert:hover {\n",
              "      background-color: #434B5C;\n",
              "      box-shadow: 0px 1px 3px 1px rgba(0, 0, 0, 0.15);\n",
              "      filter: drop-shadow(0px 1px 2px rgba(0, 0, 0, 0.3));\n",
              "      fill: #FFFFFF;\n",
              "    }\n",
              "  </style>\n",
              "\n",
              "      <script>\n",
              "        const buttonEl =\n",
              "          document.querySelector('#df-e401c52a-8f25-4912-98ba-3b7f391ebda7 button.colab-df-convert');\n",
              "        buttonEl.style.display =\n",
              "          google.colab.kernel.accessAllowed ? 'block' : 'none';\n",
              "\n",
              "        async function convertToInteractive(key) {\n",
              "          const element = document.querySelector('#df-e401c52a-8f25-4912-98ba-3b7f391ebda7');\n",
              "          const dataTable =\n",
              "            await google.colab.kernel.invokeFunction('convertToInteractive',\n",
              "                                                     [key], {});\n",
              "          if (!dataTable) return;\n",
              "\n",
              "          const docLinkHtml = 'Like what you see? Visit the ' +\n",
              "            '<a target=\"_blank\" href=https://colab.research.google.com/notebooks/data_table.ipynb>data table notebook</a>'\n",
              "            + ' to learn more about interactive tables.';\n",
              "          element.innerHTML = '';\n",
              "          dataTable['output_type'] = 'display_data';\n",
              "          await google.colab.output.renderOutput(dataTable, element);\n",
              "          const docLink = document.createElement('div');\n",
              "          docLink.innerHTML = docLinkHtml;\n",
              "          element.appendChild(docLink);\n",
              "        }\n",
              "      </script>\n",
              "    </div>\n",
              "  </div>\n",
              "  "
            ]
          },
          "metadata": {},
          "execution_count": 18
        }
      ]
    },
    {
      "cell_type": "markdown",
      "source": [
        "##Criando um ranking"
      ],
      "metadata": {
        "id": "XKR91zAujOaO"
      }
    },
    {
      "cell_type": "code",
      "source": [
        "base_indicador['Ranking ano 1'] = 0\n",
        "\n",
        "for index, item in enumerate(list(tabela_eigen1.index)):\n",
        "    variancia = tabela_eigen1.loc[item]['Variância']\n",
        "\n",
        "    base_indicador['Ranking ano 1'] = base_indicador['Ranking ano 1'] + base_indicador[tabela_eigen1.index[index]]*variancia\n",
        "    \n",
        "print(base_indicador.head(5))"
      ],
      "metadata": {
        "colab": {
          "base_uri": "https://localhost:8080/"
        },
        "id": "rR42TGlfjRgS",
        "outputId": "4f3e1b0a-d307-4338-fece-6c578d04a61e"
      },
      "execution_count": null,
      "outputs": [
        {
          "output_type": "stream",
          "name": "stdout",
          "text": [
            "        país  cpi1  violência1  pib_capita1  escol1  cpi2  violência2  \\\n",
            "0  Argentina   2.9      5.8836   10749.3193     9.7   2.9      5.2538   \n",
            "1  Australia   8.7      0.7800   25190.8398    11.8   8.7      0.7800   \n",
            "2    Austria   7.9      0.7077   26642.9941    11.8   7.9      0.8094   \n",
            "3    Belgium   7.1      1.6349   24550.3965    12.0   7.1      1.3524   \n",
            "4     Brazil   3.7     25.0808    4716.6143     6.7   3.7     24.4085   \n",
            "\n",
            "   pib_capita2  escol2  Ano 1 Fator 1  Ano 2 Fator 1  Ranking ano 1  \n",
            "0   11601.6299     9.8       0.561206       0.539585       0.363201  \n",
            "1   25306.8242    11.9      -1.071493      -1.076836      -0.693449  \n",
            "2   27266.4043    11.8      -0.996483      -1.000343      -0.644904  \n",
            "3   24733.6270    12.1      -0.825835      -0.834912      -0.534464  \n",
            "4    4803.3984     6.8       1.342877       1.360426       0.869084  \n"
          ]
        }
      ]
    },
    {
      "cell_type": "code",
      "source": [
        "base_indicador['Ranking ano 2'] = 0\n",
        "\n",
        "for index, item in enumerate(list(tabela_eigen2.index)):\n",
        "    variancia = tabela_eigen2.loc[item]['Variância']\n",
        "\n",
        "    base_indicador['Ranking ano 2'] = base_indicador['Ranking ano 2'] + base_indicador[tabela_eigen2.index[index]]*variancia\n",
        "    \n",
        "print(base_indicador.head(5))"
      ],
      "metadata": {
        "colab": {
          "base_uri": "https://localhost:8080/"
        },
        "id": "sHHhALGfeoJw",
        "outputId": "02629651-854c-4ca6-a0c0-0bd4fbb45908"
      },
      "execution_count": null,
      "outputs": [
        {
          "output_type": "stream",
          "name": "stdout",
          "text": [
            "        país  cpi1  violência1  pib_capita1  escol1  cpi2  violência2  \\\n",
            "0  Argentina   2.9      5.8836   10749.3193     9.7   2.9      5.2538   \n",
            "1  Australia   8.7      0.7800   25190.8398    11.8   8.7      0.7800   \n",
            "2    Austria   7.9      0.7077   26642.9941    11.8   7.9      0.8094   \n",
            "3    Belgium   7.1      1.6349   24550.3965    12.0   7.1      1.3524   \n",
            "4     Brazil   3.7     25.0808    4716.6143     6.7   3.7     24.4085   \n",
            "\n",
            "   pib_capita2  escol2  Ano 1 Fator 1  Ano 2 Fator 1  Ranking ano 1  \\\n",
            "0   11601.6299     9.8       0.561206       0.539585       0.363201   \n",
            "1   25306.8242    11.9      -1.071493      -1.076836      -0.693449   \n",
            "2   27266.4043    11.8      -0.996483      -1.000343      -0.644904   \n",
            "3   24733.6270    12.1      -0.825835      -0.834912      -0.534464   \n",
            "4    4803.3984     6.8       1.342877       1.360426       0.869084   \n",
            "\n",
            "   Ranking ano 2  \n",
            "0       0.346139  \n",
            "1      -0.690781  \n",
            "2      -0.641711  \n",
            "3      -0.535589  \n",
            "4       0.872702  \n"
          ]
        }
      ]
    },
    {
      "cell_type": "code",
      "source": [
        "base_indicador=base_indicador.sort_values(by='Ranking ano 1')\n",
        "base_indicador['Classificacao ano 1']=base_indicador.reset_index().drop('index',axis=1).index+1\n",
        "base_indicador=base_indicador.sort_values(by='Ranking ano 2')\n",
        "base_indicador['Classificacao ano 2']=base_indicador.reset_index().drop('index',axis=1).index+1"
      ],
      "metadata": {
        "id": "uP7nXCymdkF1"
      },
      "execution_count": null,
      "outputs": []
    },
    {
      "cell_type": "code",
      "source": [
        "base_indicador.head(5) # Top 5"
      ],
      "metadata": {
        "colab": {
          "base_uri": "https://localhost:8080/",
          "height": 267
        },
        "id": "wcU4K38QgrX0",
        "outputId": "776f3c14-c5c8-4226-f5fd-d65847bb6e14"
      },
      "execution_count": null,
      "outputs": [
        {
          "output_type": "execute_result",
          "data": {
            "text/plain": [
              "           país  cpi1  violência1  pib_capita1  escol1  cpi2  violência2  \\\n",
              "29       Norway   8.6      0.8763   39970.2930    13.5   8.6      0.6321   \n",
              "42  Switzerland   9.0      0.8976   38826.8438    13.4   8.7      0.9867   \n",
              "41       Sweden   9.2      1.0819   32631.1934    12.3   9.2      0.8965   \n",
              "11      Denmark   9.3      0.6282   30667.8242    12.8   9.3      1.0043   \n",
              "21        Japan   7.7      0.4763   39971.7891    12.1   7.8      0.4394   \n",
              "\n",
              "    pib_capita2  escol2  Ano 1 Fator 1  Ano 2 Fator 1  Ranking ano 1  \\\n",
              "29   40034.8516    13.6      -1.696403      -1.705608      -1.097878   \n",
              "42   39170.4141    13.5      -1.709531      -1.676204      -1.106375   \n",
              "41   33630.2461    12.4      -1.418209      -1.453431      -0.917837   \n",
              "11   30860.1289    12.8      -1.447219      -1.436972      -0.936612   \n",
              "21   39578.0742    12.2      -1.394655      -1.398860      -0.902594   \n",
              "\n",
              "    Ranking ano 2  Classificacao ano 1  Classificacao ano 2  \n",
              "29      -1.094133                    2                    1  \n",
              "42      -1.075271                    1                    2  \n",
              "41      -0.932364                    4                    3  \n",
              "11      -0.921806                    3                    4  \n",
              "21      -0.897357                    5                    5  "
            ],
            "text/html": [
              "\n",
              "  <div id=\"df-42af31ce-ef5c-4028-9dce-6cba809d1a73\">\n",
              "    <div class=\"colab-df-container\">\n",
              "      <div>\n",
              "<style scoped>\n",
              "    .dataframe tbody tr th:only-of-type {\n",
              "        vertical-align: middle;\n",
              "    }\n",
              "\n",
              "    .dataframe tbody tr th {\n",
              "        vertical-align: top;\n",
              "    }\n",
              "\n",
              "    .dataframe thead th {\n",
              "        text-align: right;\n",
              "    }\n",
              "</style>\n",
              "<table border=\"1\" class=\"dataframe\">\n",
              "  <thead>\n",
              "    <tr style=\"text-align: right;\">\n",
              "      <th></th>\n",
              "      <th>país</th>\n",
              "      <th>cpi1</th>\n",
              "      <th>violência1</th>\n",
              "      <th>pib_capita1</th>\n",
              "      <th>escol1</th>\n",
              "      <th>cpi2</th>\n",
              "      <th>violência2</th>\n",
              "      <th>pib_capita2</th>\n",
              "      <th>escol2</th>\n",
              "      <th>Ano 1 Fator 1</th>\n",
              "      <th>Ano 2 Fator 1</th>\n",
              "      <th>Ranking ano 1</th>\n",
              "      <th>Ranking ano 2</th>\n",
              "      <th>Classificacao ano 1</th>\n",
              "      <th>Classificacao ano 2</th>\n",
              "    </tr>\n",
              "  </thead>\n",
              "  <tbody>\n",
              "    <tr>\n",
              "      <th>29</th>\n",
              "      <td>Norway</td>\n",
              "      <td>8.6</td>\n",
              "      <td>0.8763</td>\n",
              "      <td>39970.2930</td>\n",
              "      <td>13.5</td>\n",
              "      <td>8.6</td>\n",
              "      <td>0.6321</td>\n",
              "      <td>40034.8516</td>\n",
              "      <td>13.6</td>\n",
              "      <td>-1.696403</td>\n",
              "      <td>-1.705608</td>\n",
              "      <td>-1.097878</td>\n",
              "      <td>-1.094133</td>\n",
              "      <td>2</td>\n",
              "      <td>1</td>\n",
              "    </tr>\n",
              "    <tr>\n",
              "      <th>42</th>\n",
              "      <td>Switzerland</td>\n",
              "      <td>9.0</td>\n",
              "      <td>0.8976</td>\n",
              "      <td>38826.8438</td>\n",
              "      <td>13.4</td>\n",
              "      <td>8.7</td>\n",
              "      <td>0.9867</td>\n",
              "      <td>39170.4141</td>\n",
              "      <td>13.5</td>\n",
              "      <td>-1.709531</td>\n",
              "      <td>-1.676204</td>\n",
              "      <td>-1.106375</td>\n",
              "      <td>-1.075271</td>\n",
              "      <td>1</td>\n",
              "      <td>2</td>\n",
              "    </tr>\n",
              "    <tr>\n",
              "      <th>41</th>\n",
              "      <td>Sweden</td>\n",
              "      <td>9.2</td>\n",
              "      <td>1.0819</td>\n",
              "      <td>32631.1934</td>\n",
              "      <td>12.3</td>\n",
              "      <td>9.2</td>\n",
              "      <td>0.8965</td>\n",
              "      <td>33630.2461</td>\n",
              "      <td>12.4</td>\n",
              "      <td>-1.418209</td>\n",
              "      <td>-1.453431</td>\n",
              "      <td>-0.917837</td>\n",
              "      <td>-0.932364</td>\n",
              "      <td>4</td>\n",
              "      <td>3</td>\n",
              "    </tr>\n",
              "    <tr>\n",
              "      <th>11</th>\n",
              "      <td>Denmark</td>\n",
              "      <td>9.3</td>\n",
              "      <td>0.6282</td>\n",
              "      <td>30667.8242</td>\n",
              "      <td>12.8</td>\n",
              "      <td>9.3</td>\n",
              "      <td>1.0043</td>\n",
              "      <td>30860.1289</td>\n",
              "      <td>12.8</td>\n",
              "      <td>-1.447219</td>\n",
              "      <td>-1.436972</td>\n",
              "      <td>-0.936612</td>\n",
              "      <td>-0.921806</td>\n",
              "      <td>3</td>\n",
              "      <td>4</td>\n",
              "    </tr>\n",
              "    <tr>\n",
              "      <th>21</th>\n",
              "      <td>Japan</td>\n",
              "      <td>7.7</td>\n",
              "      <td>0.4763</td>\n",
              "      <td>39971.7891</td>\n",
              "      <td>12.1</td>\n",
              "      <td>7.8</td>\n",
              "      <td>0.4394</td>\n",
              "      <td>39578.0742</td>\n",
              "      <td>12.2</td>\n",
              "      <td>-1.394655</td>\n",
              "      <td>-1.398860</td>\n",
              "      <td>-0.902594</td>\n",
              "      <td>-0.897357</td>\n",
              "      <td>5</td>\n",
              "      <td>5</td>\n",
              "    </tr>\n",
              "  </tbody>\n",
              "</table>\n",
              "</div>\n",
              "      <button class=\"colab-df-convert\" onclick=\"convertToInteractive('df-42af31ce-ef5c-4028-9dce-6cba809d1a73')\"\n",
              "              title=\"Convert this dataframe to an interactive table.\"\n",
              "              style=\"display:none;\">\n",
              "        \n",
              "  <svg xmlns=\"http://www.w3.org/2000/svg\" height=\"24px\"viewBox=\"0 0 24 24\"\n",
              "       width=\"24px\">\n",
              "    <path d=\"M0 0h24v24H0V0z\" fill=\"none\"/>\n",
              "    <path d=\"M18.56 5.44l.94 2.06.94-2.06 2.06-.94-2.06-.94-.94-2.06-.94 2.06-2.06.94zm-11 1L8.5 8.5l.94-2.06 2.06-.94-2.06-.94L8.5 2.5l-.94 2.06-2.06.94zm10 10l.94 2.06.94-2.06 2.06-.94-2.06-.94-.94-2.06-.94 2.06-2.06.94z\"/><path d=\"M17.41 7.96l-1.37-1.37c-.4-.4-.92-.59-1.43-.59-.52 0-1.04.2-1.43.59L10.3 9.45l-7.72 7.72c-.78.78-.78 2.05 0 2.83L4 21.41c.39.39.9.59 1.41.59.51 0 1.02-.2 1.41-.59l7.78-7.78 2.81-2.81c.8-.78.8-2.07 0-2.86zM5.41 20L4 18.59l7.72-7.72 1.47 1.35L5.41 20z\"/>\n",
              "  </svg>\n",
              "      </button>\n",
              "      \n",
              "  <style>\n",
              "    .colab-df-container {\n",
              "      display:flex;\n",
              "      flex-wrap:wrap;\n",
              "      gap: 12px;\n",
              "    }\n",
              "\n",
              "    .colab-df-convert {\n",
              "      background-color: #E8F0FE;\n",
              "      border: none;\n",
              "      border-radius: 50%;\n",
              "      cursor: pointer;\n",
              "      display: none;\n",
              "      fill: #1967D2;\n",
              "      height: 32px;\n",
              "      padding: 0 0 0 0;\n",
              "      width: 32px;\n",
              "    }\n",
              "\n",
              "    .colab-df-convert:hover {\n",
              "      background-color: #E2EBFA;\n",
              "      box-shadow: 0px 1px 2px rgba(60, 64, 67, 0.3), 0px 1px 3px 1px rgba(60, 64, 67, 0.15);\n",
              "      fill: #174EA6;\n",
              "    }\n",
              "\n",
              "    [theme=dark] .colab-df-convert {\n",
              "      background-color: #3B4455;\n",
              "      fill: #D2E3FC;\n",
              "    }\n",
              "\n",
              "    [theme=dark] .colab-df-convert:hover {\n",
              "      background-color: #434B5C;\n",
              "      box-shadow: 0px 1px 3px 1px rgba(0, 0, 0, 0.15);\n",
              "      filter: drop-shadow(0px 1px 2px rgba(0, 0, 0, 0.3));\n",
              "      fill: #FFFFFF;\n",
              "    }\n",
              "  </style>\n",
              "\n",
              "      <script>\n",
              "        const buttonEl =\n",
              "          document.querySelector('#df-42af31ce-ef5c-4028-9dce-6cba809d1a73 button.colab-df-convert');\n",
              "        buttonEl.style.display =\n",
              "          google.colab.kernel.accessAllowed ? 'block' : 'none';\n",
              "\n",
              "        async function convertToInteractive(key) {\n",
              "          const element = document.querySelector('#df-42af31ce-ef5c-4028-9dce-6cba809d1a73');\n",
              "          const dataTable =\n",
              "            await google.colab.kernel.invokeFunction('convertToInteractive',\n",
              "                                                     [key], {});\n",
              "          if (!dataTable) return;\n",
              "\n",
              "          const docLinkHtml = 'Like what you see? Visit the ' +\n",
              "            '<a target=\"_blank\" href=https://colab.research.google.com/notebooks/data_table.ipynb>data table notebook</a>'\n",
              "            + ' to learn more about interactive tables.';\n",
              "          element.innerHTML = '';\n",
              "          dataTable['output_type'] = 'display_data';\n",
              "          await google.colab.output.renderOutput(dataTable, element);\n",
              "          const docLink = document.createElement('div');\n",
              "          docLink.innerHTML = docLinkHtml;\n",
              "          element.appendChild(docLink);\n",
              "        }\n",
              "      </script>\n",
              "    </div>\n",
              "  </div>\n",
              "  "
            ]
          },
          "metadata": {},
          "execution_count": 24
        }
      ]
    }
  ]
}