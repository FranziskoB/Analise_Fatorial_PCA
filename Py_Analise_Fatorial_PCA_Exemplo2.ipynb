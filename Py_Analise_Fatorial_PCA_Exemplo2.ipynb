{
  "nbformat": 4,
  "nbformat_minor": 0,
  "metadata": {
    "colab": {
      "provenance": [],
      "authorship_tag": "ABX9TyM/2lS23MWMgItk0ezvLEBv",
      "include_colab_link": true
    },
    "kernelspec": {
      "name": "python3",
      "display_name": "Python 3"
    },
    "language_info": {
      "name": "python"
    }
  },
  "cells": [
    {
      "cell_type": "markdown",
      "metadata": {
        "id": "view-in-github",
        "colab_type": "text"
      },
      "source": [
        "<a href=\"https://colab.research.google.com/github/FranziskoB/Analise_Fatorial_PCA/blob/main/Py_Analise_Fatorial_PCA_Exemplo2.ipynb\" target=\"_parent\"><img src=\"https://colab.research.google.com/assets/colab-badge.svg\" alt=\"Open In Colab\"/></a>"
      ]
    },
    {
      "cell_type": "markdown",
      "source": [
        "#Análises fatoriais e PCA"
      ],
      "metadata": {
        "id": "_JkjATgdbOqm"
      }
    },
    {
      "cell_type": "markdown",
      "source": [
        "Utilizando uma base de dados sobre venda de casas, o objetivo da análise é criar um ranking dessas casas.\n",
        "\n"
      ],
      "metadata": {
        "id": "g54fQW9gbVI2"
      }
    },
    {
      "cell_type": "markdown",
      "source": [
        "##Importando bibliotecas"
      ],
      "metadata": {
        "id": "G_itTHfMbXrH"
      }
    },
    {
      "cell_type": "code",
      "execution_count": null,
      "metadata": {
        "id": "Qhr0Wfh9bH5K"
      },
      "outputs": [],
      "source": [
        "!pip install spicy\n",
        "!pip install factor_analyzer\n",
        "!pip install pingouin"
      ]
    },
    {
      "cell_type": "code",
      "source": [
        "import pandas as pd\n",
        "from factor_analyzer import FactorAnalyzer\n",
        "from factor_analyzer.factor_analyzer import calculate_bartlett_sphericity\n",
        "import pingouin as pg\n",
        "import seaborn as sns\n",
        "import numpy as np\n",
        "import matplotlib.pyplot as plt"
      ],
      "metadata": {
        "id": "L7B4J9oPfpJ2"
      },
      "execution_count": 2,
      "outputs": []
    },
    {
      "cell_type": "markdown",
      "source": [
        "##Carregamento da base de dados"
      ],
      "metadata": {
        "id": "0gb-yNUQbN5L"
      }
    },
    {
      "cell_type": "code",
      "source": [
        "casas = pd.read_excel(\"https://github.com/FranziskoB/Analise_Fatorial_PCA/raw/main/Dados/preco_casas.xlsx\")\n",
        "casas.head(5)"
      ],
      "metadata": {
        "colab": {
          "base_uri": "https://localhost:8080/",
          "height": 206
        },
        "id": "gz-NyzLSf1cm",
        "outputId": "9cdd6827-72ce-4e61-a5b4-1ce2e1123b1c"
      },
      "execution_count": 4,
      "outputs": [
        {
          "output_type": "execute_result",
          "data": {
            "text/plain": [
              "   land_size_sqm  house_size_sqm  no_of_rooms  no_of_bathrooms  \\\n",
              "0            201             177            3                1   \n",
              "1            196             182            4                3   \n",
              "2            198             182            4                4   \n",
              "3            178             166            2                3   \n",
              "4            183             165            3                1   \n",
              "\n",
              "   distance_to_school  house_age  distance_to_supermarket_km  \\\n",
              "0                 3.3         10                         6.8   \n",
              "1                 1.2         11                         4.1   \n",
              "2                 5.9         20                         2.1   \n",
              "3                 5.9          5                         0.7   \n",
              "4                 3.8          8                         0.7   \n",
              "\n",
              "   crime_rate_index  property_value  \n",
              "0              0.90          165432  \n",
              "1              1.42          187043  \n",
              "2              4.12          148658  \n",
              "3              4.36          123785  \n",
              "4              0.42          156470  "
            ],
            "text/html": [
              "\n",
              "  <div id=\"df-9d416462-57b1-413e-b316-6415fc7194aa\">\n",
              "    <div class=\"colab-df-container\">\n",
              "      <div>\n",
              "<style scoped>\n",
              "    .dataframe tbody tr th:only-of-type {\n",
              "        vertical-align: middle;\n",
              "    }\n",
              "\n",
              "    .dataframe tbody tr th {\n",
              "        vertical-align: top;\n",
              "    }\n",
              "\n",
              "    .dataframe thead th {\n",
              "        text-align: right;\n",
              "    }\n",
              "</style>\n",
              "<table border=\"1\" class=\"dataframe\">\n",
              "  <thead>\n",
              "    <tr style=\"text-align: right;\">\n",
              "      <th></th>\n",
              "      <th>land_size_sqm</th>\n",
              "      <th>house_size_sqm</th>\n",
              "      <th>no_of_rooms</th>\n",
              "      <th>no_of_bathrooms</th>\n",
              "      <th>distance_to_school</th>\n",
              "      <th>house_age</th>\n",
              "      <th>distance_to_supermarket_km</th>\n",
              "      <th>crime_rate_index</th>\n",
              "      <th>property_value</th>\n",
              "    </tr>\n",
              "  </thead>\n",
              "  <tbody>\n",
              "    <tr>\n",
              "      <th>0</th>\n",
              "      <td>201</td>\n",
              "      <td>177</td>\n",
              "      <td>3</td>\n",
              "      <td>1</td>\n",
              "      <td>3.3</td>\n",
              "      <td>10</td>\n",
              "      <td>6.8</td>\n",
              "      <td>0.90</td>\n",
              "      <td>165432</td>\n",
              "    </tr>\n",
              "    <tr>\n",
              "      <th>1</th>\n",
              "      <td>196</td>\n",
              "      <td>182</td>\n",
              "      <td>4</td>\n",
              "      <td>3</td>\n",
              "      <td>1.2</td>\n",
              "      <td>11</td>\n",
              "      <td>4.1</td>\n",
              "      <td>1.42</td>\n",
              "      <td>187043</td>\n",
              "    </tr>\n",
              "    <tr>\n",
              "      <th>2</th>\n",
              "      <td>198</td>\n",
              "      <td>182</td>\n",
              "      <td>4</td>\n",
              "      <td>4</td>\n",
              "      <td>5.9</td>\n",
              "      <td>20</td>\n",
              "      <td>2.1</td>\n",
              "      <td>4.12</td>\n",
              "      <td>148658</td>\n",
              "    </tr>\n",
              "    <tr>\n",
              "      <th>3</th>\n",
              "      <td>178</td>\n",
              "      <td>166</td>\n",
              "      <td>2</td>\n",
              "      <td>3</td>\n",
              "      <td>5.9</td>\n",
              "      <td>5</td>\n",
              "      <td>0.7</td>\n",
              "      <td>4.36</td>\n",
              "      <td>123785</td>\n",
              "    </tr>\n",
              "    <tr>\n",
              "      <th>4</th>\n",
              "      <td>183</td>\n",
              "      <td>165</td>\n",
              "      <td>3</td>\n",
              "      <td>1</td>\n",
              "      <td>3.8</td>\n",
              "      <td>8</td>\n",
              "      <td>0.7</td>\n",
              "      <td>0.42</td>\n",
              "      <td>156470</td>\n",
              "    </tr>\n",
              "  </tbody>\n",
              "</table>\n",
              "</div>\n",
              "      <button class=\"colab-df-convert\" onclick=\"convertToInteractive('df-9d416462-57b1-413e-b316-6415fc7194aa')\"\n",
              "              title=\"Convert this dataframe to an interactive table.\"\n",
              "              style=\"display:none;\">\n",
              "        \n",
              "  <svg xmlns=\"http://www.w3.org/2000/svg\" height=\"24px\"viewBox=\"0 0 24 24\"\n",
              "       width=\"24px\">\n",
              "    <path d=\"M0 0h24v24H0V0z\" fill=\"none\"/>\n",
              "    <path d=\"M18.56 5.44l.94 2.06.94-2.06 2.06-.94-2.06-.94-.94-2.06-.94 2.06-2.06.94zm-11 1L8.5 8.5l.94-2.06 2.06-.94-2.06-.94L8.5 2.5l-.94 2.06-2.06.94zm10 10l.94 2.06.94-2.06 2.06-.94-2.06-.94-.94-2.06-.94 2.06-2.06.94z\"/><path d=\"M17.41 7.96l-1.37-1.37c-.4-.4-.92-.59-1.43-.59-.52 0-1.04.2-1.43.59L10.3 9.45l-7.72 7.72c-.78.78-.78 2.05 0 2.83L4 21.41c.39.39.9.59 1.41.59.51 0 1.02-.2 1.41-.59l7.78-7.78 2.81-2.81c.8-.78.8-2.07 0-2.86zM5.41 20L4 18.59l7.72-7.72 1.47 1.35L5.41 20z\"/>\n",
              "  </svg>\n",
              "      </button>\n",
              "      \n",
              "  <style>\n",
              "    .colab-df-container {\n",
              "      display:flex;\n",
              "      flex-wrap:wrap;\n",
              "      gap: 12px;\n",
              "    }\n",
              "\n",
              "    .colab-df-convert {\n",
              "      background-color: #E8F0FE;\n",
              "      border: none;\n",
              "      border-radius: 50%;\n",
              "      cursor: pointer;\n",
              "      display: none;\n",
              "      fill: #1967D2;\n",
              "      height: 32px;\n",
              "      padding: 0 0 0 0;\n",
              "      width: 32px;\n",
              "    }\n",
              "\n",
              "    .colab-df-convert:hover {\n",
              "      background-color: #E2EBFA;\n",
              "      box-shadow: 0px 1px 2px rgba(60, 64, 67, 0.3), 0px 1px 3px 1px rgba(60, 64, 67, 0.15);\n",
              "      fill: #174EA6;\n",
              "    }\n",
              "\n",
              "    [theme=dark] .colab-df-convert {\n",
              "      background-color: #3B4455;\n",
              "      fill: #D2E3FC;\n",
              "    }\n",
              "\n",
              "    [theme=dark] .colab-df-convert:hover {\n",
              "      background-color: #434B5C;\n",
              "      box-shadow: 0px 1px 3px 1px rgba(0, 0, 0, 0.15);\n",
              "      filter: drop-shadow(0px 1px 2px rgba(0, 0, 0, 0.3));\n",
              "      fill: #FFFFFF;\n",
              "    }\n",
              "  </style>\n",
              "\n",
              "      <script>\n",
              "        const buttonEl =\n",
              "          document.querySelector('#df-9d416462-57b1-413e-b316-6415fc7194aa button.colab-df-convert');\n",
              "        buttonEl.style.display =\n",
              "          google.colab.kernel.accessAllowed ? 'block' : 'none';\n",
              "\n",
              "        async function convertToInteractive(key) {\n",
              "          const element = document.querySelector('#df-9d416462-57b1-413e-b316-6415fc7194aa');\n",
              "          const dataTable =\n",
              "            await google.colab.kernel.invokeFunction('convertToInteractive',\n",
              "                                                     [key], {});\n",
              "          if (!dataTable) return;\n",
              "\n",
              "          const docLinkHtml = 'Like what you see? Visit the ' +\n",
              "            '<a target=\"_blank\" href=https://colab.research.google.com/notebooks/data_table.ipynb>data table notebook</a>'\n",
              "            + ' to learn more about interactive tables.';\n",
              "          element.innerHTML = '';\n",
              "          dataTable['output_type'] = 'display_data';\n",
              "          await google.colab.output.renderOutput(dataTable, element);\n",
              "          const docLink = document.createElement('div');\n",
              "          docLink.innerHTML = docLinkHtml;\n",
              "          element.appendChild(docLink);\n",
              "        }\n",
              "      </script>\n",
              "    </div>\n",
              "  </div>\n",
              "  "
            ]
          },
          "metadata": {},
          "execution_count": 4
        }
      ]
    },
    {
      "cell_type": "markdown",
      "source": [
        "##Informações sobre as variáveis"
      ],
      "metadata": {
        "id": "_RFdJxRcbOCG"
      }
    },
    {
      "cell_type": "code",
      "source": [
        "print(casas.info())\n",
        "print(casas.describe())"
      ],
      "metadata": {
        "colab": {
          "base_uri": "https://localhost:8080/"
        },
        "id": "3pM3g7RBgG_d",
        "outputId": "f1669959-9409-422b-ea2a-c2af2b7748d8"
      },
      "execution_count": 5,
      "outputs": [
        {
          "output_type": "stream",
          "name": "stdout",
          "text": [
            "<class 'pandas.core.frame.DataFrame'>\n",
            "RangeIndex: 4954 entries, 0 to 4953\n",
            "Data columns (total 9 columns):\n",
            " #   Column                      Non-Null Count  Dtype  \n",
            "---  ------                      --------------  -----  \n",
            " 0   land_size_sqm               4954 non-null   int64  \n",
            " 1   house_size_sqm              4954 non-null   int64  \n",
            " 2   no_of_rooms                 4954 non-null   int64  \n",
            " 3   no_of_bathrooms             4954 non-null   int64  \n",
            " 4   distance_to_school          4954 non-null   float64\n",
            " 5   house_age                   4954 non-null   int64  \n",
            " 6   distance_to_supermarket_km  4954 non-null   float64\n",
            " 7   crime_rate_index            4954 non-null   float64\n",
            " 8   property_value              4954 non-null   int64  \n",
            "dtypes: float64(3), int64(6)\n",
            "memory usage: 348.5 KB\n",
            "None\n",
            "       land_size_sqm  house_size_sqm  no_of_rooms  no_of_bathrooms  \\\n",
            "count    4954.000000     4954.000000  4954.000000      4954.000000   \n",
            "mean      250.131409      231.250908     3.788252         3.199839   \n",
            "std       103.131939       94.571642     1.585371         1.602300   \n",
            "min       100.000000       85.000000     1.000000         1.000000   \n",
            "25%       180.000000      165.000000     3.000000         2.000000   \n",
            "50%       235.000000      217.500000     4.000000         3.000000   \n",
            "75%       295.000000      274.000000     5.000000         4.000000   \n",
            "max       796.000000      760.000000     8.000000         9.000000   \n",
            "\n",
            "       distance_to_school    house_age  distance_to_supermarket_km  \\\n",
            "count         4954.000000  4954.000000                 4954.000000   \n",
            "mean             3.454219    11.444691                    3.508639   \n",
            "std              2.007358     6.356991                    1.991266   \n",
            "min              0.100000     1.000000                    0.100000   \n",
            "25%              1.700000     6.000000                    1.800000   \n",
            "50%              3.400000    11.000000                    3.500000   \n",
            "75%              5.200000    17.000000                    5.300000   \n",
            "max              6.900000    22.000000                    6.900000   \n",
            "\n",
            "       crime_rate_index  property_value  \n",
            "count       4954.000000     4954.000000  \n",
            "mean           2.986110   201974.738999  \n",
            "std            1.737742    90031.882219  \n",
            "min            0.010000    32622.000000  \n",
            "25%            1.470000   136777.000000  \n",
            "50%            3.020000   194515.500000  \n",
            "75%            4.490000   246590.000000  \n",
            "max            5.990000   692086.000000  \n"
          ]
        }
      ]
    },
    {
      "cell_type": "markdown",
      "source": [
        "##Matriz de correlaçãoes"
      ],
      "metadata": {
        "id": "cdLLhvVKhDfH"
      }
    },
    {
      "cell_type": "code",
      "source": [
        "casas_pca = casas.drop(\"property_value\",axis=1)\n",
        "corr = casas_pca.corr()\n",
        "\n",
        "f, ax = plt.subplots(figsize=(11, 9))\n",
        "\n",
        "mask = np.triu(np.ones_like(corr, dtype=bool))\n",
        "\n",
        "cmap = sns.diverging_palette(230, 20, n=256, as_cmap=True)\n",
        "\n",
        "sns.heatmap(casas_pca.corr(), \n",
        "            mask=mask, \n",
        "            cmap=cmap, \n",
        "            vmax=1, \n",
        "            vmin = -.25,\n",
        "            center=0,\n",
        "            square=True, \n",
        "            linewidths=.5,\n",
        "            annot = True,\n",
        "            fmt='.3f', \n",
        "            annot_kws={'size': 16},\n",
        "            cbar_kws={\"shrink\": .75})\n",
        "\n",
        "plt.title('Matriz de correlação')\n",
        "plt.tight_layout()\n",
        "ax.tick_params(axis = 'x', labelsize = 14)\n",
        "ax.tick_params(axis = 'y', labelsize = 14)\n",
        "ax.set_ylim(len(corr))\n",
        "\n",
        "plt.show()"
      ],
      "metadata": {
        "colab": {
          "base_uri": "https://localhost:8080/",
          "height": 717
        },
        "id": "gD3qcH9yhTu5",
        "outputId": "487947be-665c-4e7c-9160-c9b8f923e0a0"
      },
      "execution_count": 11,
      "outputs": [
        {
          "output_type": "display_data",
          "data": {
            "text/plain": [
              "<Figure size 792x648 with 2 Axes>"
            ],
            "image/png": "[encoded data removed]"
          },
          "metadata": {
            "needs_background": "light"
          }
        }
      ]
    },
    {
      "cell_type": "markdown",
      "source": [
        "##Teste de Bartlett"
      ],
      "metadata": {
        "id": "wWUUfNz1hYj9"
      }
    },
    {
      "cell_type": "code",
      "source": [
        "bartlett, p_value = calculate_bartlett_sphericity(casas_pca)\n",
        "\n",
        "print(f'Bartlett statistic: {bartlett}')\n",
        "\n",
        "print(f'p-value : {p_value}')"
      ],
      "metadata": {
        "colab": {
          "base_uri": "https://localhost:8080/"
        },
        "id": "W_UE-dhLhcte",
        "outputId": "83201b1a-e7b0-42d8-c248-be844dcdacb4"
      },
      "execution_count": 12,
      "outputs": [
        {
          "output_type": "stream",
          "name": "stdout",
          "text": [
            "Bartlett statistic: 31857.45566643539\n",
            "p-value : 0.0\n"
          ]
        }
      ]
    },
    {
      "cell_type": "markdown",
      "source": [
        "##PCA"
      ],
      "metadata": {
        "id": "ueXk9HE4hhUF"
      }
    },
    {
      "cell_type": "markdown",
      "source": [
        "Definindo a PCA (procedimento preliminar)"
      ],
      "metadata": {
        "id": "ezJxFQ1WhzLg"
      }
    },
    {
      "cell_type": "code",
      "source": [
        "fa = FactorAnalyzer()\n",
        "fa.fit(casas_pca)"
      ],
      "metadata": {
        "colab": {
          "base_uri": "https://localhost:8080/"
        },
        "id": "0ngHEV2khxB7",
        "outputId": "8a06cd51-a5c8-4c4f-8928-6c2214f13329"
      },
      "execution_count": 13,
      "outputs": [
        {
          "output_type": "execute_result",
          "data": {
            "text/plain": [
              "FactorAnalyzer(rotation_kwargs={})"
            ]
          },
          "metadata": {},
          "execution_count": 13
        }
      ]
    },
    {
      "cell_type": "markdown",
      "source": [
        "Obtendo os Eigenvalues (autovalores)"
      ],
      "metadata": {
        "id": "yq_euCbLh2iO"
      }
    },
    {
      "cell_type": "code",
      "source": [
        "ev, v = fa.get_eigenvalues()\n",
        "print(ev)# Temos 8 autovalores para este exemplo, pois são 8 variáveis"
      ],
      "metadata": {
        "colab": {
          "base_uri": "https://localhost:8080/"
        },
        "id": "JEdFRYlxh3EZ",
        "outputId": "68c7a146-c53e-456c-b05c-44ff5b04fc1d"
      },
      "execution_count": 14,
      "outputs": [
        {
          "output_type": "stream",
          "name": "stdout",
          "text": [
            "[3.44078793 1.01989592 1.01155913 0.99164638 0.97675882 0.42231466\n",
            " 0.128448   0.00858917]\n"
          ]
        }
      ]
    },
    {
      "cell_type": "markdown",
      "source": [
        "Critério de Kaiser : \n",
        "* Verificar autovalores com valores maiores que 1\n",
        "* Existem 3 componentes acima de 1"
      ],
      "metadata": {
        "id": "a9KvKXYUh-Eo"
      }
    },
    {
      "cell_type": "markdown",
      "source": [
        "Parametrizando a PCA para dois fatores (autovalores > 1)\n"
      ],
      "metadata": {
        "id": "zeDfhygBiMxV"
      }
    },
    {
      "cell_type": "code",
      "source": [
        "fa.set_params(n_factors = 3, method = 'principal', rotation = None)\n",
        "fa.fit(casas_pca)"
      ],
      "metadata": {
        "colab": {
          "base_uri": "https://localhost:8080/"
        },
        "id": "9H9oOQ49iN7M",
        "outputId": "c41f36f1-6803-4d4b-9c1e-4f7f670d9758"
      },
      "execution_count": 16,
      "outputs": [
        {
          "output_type": "execute_result",
          "data": {
            "text/plain": [
              "FactorAnalyzer(method='principal', rotation=None, rotation_kwargs={})"
            ]
          },
          "metadata": {},
          "execution_count": 16
        }
      ]
    },
    {
      "cell_type": "markdown",
      "source": [
        "Eigenvalues, variâncias e variâncias acumulada\n"
      ],
      "metadata": {
        "id": "hcJRyntQiRts"
      }
    },
    {
      "cell_type": "code",
      "source": [
        "eigen_fatores = fa.get_factor_variance()\n",
        "eigen_fatores\n",
        "\n",
        "tabela_eigen = pd.DataFrame(eigen_fatores)\n",
        "tabela_eigen.columns = [f\"Fator {i+1}\" for i, v in enumerate(tabela_eigen.columns)]\n",
        "tabela_eigen.index = ['Autovalor','Variância', 'Variância Acumulada']\n",
        "tabela_eigen = tabela_eigen.T\n",
        "print(tabela_eigen)"
      ],
      "metadata": {
        "colab": {
          "base_uri": "https://localhost:8080/"
        },
        "id": "rlLRP53QiRNV",
        "outputId": "0c8dcf22-642b-4c6e-c979-0dced58cb037"
      },
      "execution_count": 17,
      "outputs": [
        {
          "output_type": "stream",
          "name": "stdout",
          "text": [
            "         Autovalor  Variância  Variância Acumulada\n",
            "Fator 1   3.440788   0.430098             0.430098\n",
            "Fator 2   1.019896   0.127487             0.557585\n",
            "Fator 3   1.011559   0.126445             0.684030\n"
          ]
        }
      ]
    },
    {
      "cell_type": "markdown",
      "source": [
        "Determinando as cargas fatoriais"
      ],
      "metadata": {
        "id": "nSdbMtP4igOf"
      }
    },
    {
      "cell_type": "code",
      "source": [
        "cargas_fatores = fa.loadings_\n",
        "tabela_cargas = pd.DataFrame(cargas_fatores)\n",
        "tabela_cargas.columns = [f\"Fator {i+1}\" for i, v in enumerate(tabela_cargas.columns)]\n",
        "tabela_cargas.index = casas_pca.columns\n",
        "tabela_cargas\n",
        "print(tabela_cargas)"
      ],
      "metadata": {
        "colab": {
          "base_uri": "https://localhost:8080/"
        },
        "id": "D6KgfVdhiMGp",
        "outputId": "8cf713fa-1bc3-434c-9bba-ba6c55567fe4"
      },
      "execution_count": 18,
      "outputs": [
        {
          "output_type": "stream",
          "name": "stdout",
          "text": [
            "                             Fator 1   Fator 2   Fator 3\n",
            "land_size_sqm               0.969318  0.000670  0.003416\n",
            "house_size_sqm              0.967866 -0.000800  0.005045\n",
            "no_of_rooms                 0.948705 -0.002536  0.002939\n",
            "no_of_bathrooms             0.814810 -0.002453 -0.002870\n",
            "distance_to_school         -0.013787  0.349991  0.642441\n",
            "house_age                   0.007448  0.080374  0.692606\n",
            "distance_to_supermarket_km -0.000987  0.720297 -0.113461\n",
            "crime_rate_index            0.015520  0.610001 -0.325882\n"
          ]
        }
      ]
    },
    {
      "cell_type": "markdown",
      "source": [
        "Determinando as comunalidades"
      ],
      "metadata": {
        "id": "5G6f_ATmikvI"
      }
    },
    {
      "cell_type": "code",
      "source": [
        "comunalidades = fa.get_communalities()\n",
        "tabela_comunalidades = pd.DataFrame(comunalidades)\n",
        "tabela_comunalidades.columns = ['Comunalidades']\n",
        "tabela_comunalidades.index = casas_pca.columns\n",
        "tabela_comunalidades\n",
        "print(tabela_comunalidades)"
      ],
      "metadata": {
        "colab": {
          "base_uri": "https://localhost:8080/"
        },
        "id": "pMBCGjdpimeM",
        "outputId": "60a629dd-63f7-4939-a362-c7f9379c2fb9"
      },
      "execution_count": 19,
      "outputs": [
        {
          "output_type": "stream",
          "name": "stdout",
          "text": [
            "                            Comunalidades\n",
            "land_size_sqm                    0.939590\n",
            "house_size_sqm                   0.936791\n",
            "no_of_rooms                      0.900057\n",
            "no_of_bathrooms                  0.663930\n",
            "distance_to_school               0.535414\n",
            "house_age                        0.486218\n",
            "distance_to_supermarket_km       0.531702\n",
            "crime_rate_index                 0.478541\n"
          ]
        }
      ]
    },
    {
      "cell_type": "markdown",
      "source": [
        "Resultados dos fatores para as observações do dataset (predict)"
      ],
      "metadata": {
        "id": "ILaaNMQvip3R"
      }
    },
    {
      "cell_type": "code",
      "source": [
        "predict_fatores= pd.DataFrame(fa.transform(casas_pca))\n",
        "predict_fatores.columns =  [f\"Fator {i+1}\" for i, v in enumerate(predict_fatores.columns)]\n",
        "print(predict_fatores)"
      ],
      "metadata": {
        "colab": {
          "base_uri": "https://localhost:8080/"
        },
        "id": "2PE9lbaVire2",
        "outputId": "7a116f0f-7511-46d5-95d2-b41a56d467c3"
      },
      "execution_count": 20,
      "outputs": [
        {
          "output_type": "stream",
          "name": "stdout",
          "text": [
            "       Fator 1   Fator 2   Fator 3\n",
            "0    -0.763931  0.409791 -0.005071\n",
            "1    -0.286895 -0.720208 -0.507750\n",
            "2    -0.132644  0.413418  1.559236\n",
            "3    -0.734837 -0.181887 -0.025554\n",
            "4    -0.850848 -1.858475  0.369112\n",
            "...        ...       ...       ...\n",
            "4949  0.378174  0.565149  0.528827\n",
            "4950  0.149131  0.216979  0.269514\n",
            "4951 -0.533601  0.683343 -0.789444\n",
            "4952 -1.044735 -0.113250 -1.662989\n",
            "4953  3.523850 -1.146633 -1.754357\n",
            "\n",
            "[4954 rows x 3 columns]\n"
          ]
        }
      ]
    },
    {
      "cell_type": "markdown",
      "source": [
        "Adicionando ao dataset \n"
      ],
      "metadata": {
        "id": "uJgOMP9TiwtD"
      }
    },
    {
      "cell_type": "code",
      "source": [
        "casas = pd.concat([casas.reset_index(drop=True), predict_fatores], axis=1)\n",
        "casas.head(5)"
      ],
      "metadata": {
        "colab": {
          "base_uri": "https://localhost:8080/",
          "height": 270
        },
        "id": "F-8scOU-iyC5",
        "outputId": "d1cf702b-7085-48dd-b081-d7ed4c62668e"
      },
      "execution_count": 22,
      "outputs": [
        {
          "output_type": "execute_result",
          "data": {
            "text/plain": [
              "   land_size_sqm  house_size_sqm  no_of_rooms  no_of_bathrooms  \\\n",
              "0            201             177            3                1   \n",
              "1            196             182            4                3   \n",
              "2            198             182            4                4   \n",
              "3            178             166            2                3   \n",
              "4            183             165            3                1   \n",
              "\n",
              "   distance_to_school  house_age  distance_to_supermarket_km  \\\n",
              "0                 3.3         10                         6.8   \n",
              "1                 1.2         11                         4.1   \n",
              "2                 5.9         20                         2.1   \n",
              "3                 5.9          5                         0.7   \n",
              "4                 3.8          8                         0.7   \n",
              "\n",
              "   crime_rate_index  property_value   Fator 1   Fator 2   Fator 3  \n",
              "0              0.90          165432 -0.763931  0.409791 -0.005071  \n",
              "1              1.42          187043 -0.286895 -0.720208 -0.507750  \n",
              "2              4.12          148658 -0.132644  0.413418  1.559236  \n",
              "3              4.36          123785 -0.734837 -0.181887 -0.025554  \n",
              "4              0.42          156470 -0.850848 -1.858475  0.369112  "
            ],
            "text/html": [
              "\n",
              "  <div id=\"df-0b5a3a9c-0daa-4e95-b317-e71f47ea2a64\">\n",
              "    <div class=\"colab-df-container\">\n",
              "      <div>\n",
              "<style scoped>\n",
              "    .dataframe tbody tr th:only-of-type {\n",
              "        vertical-align: middle;\n",
              "    }\n",
              "\n",
              "    .dataframe tbody tr th {\n",
              "        vertical-align: top;\n",
              "    }\n",
              "\n",
              "    .dataframe thead th {\n",
              "        text-align: right;\n",
              "    }\n",
              "</style>\n",
              "<table border=\"1\" class=\"dataframe\">\n",
              "  <thead>\n",
              "    <tr style=\"text-align: right;\">\n",
              "      <th></th>\n",
              "      <th>land_size_sqm</th>\n",
              "      <th>house_size_sqm</th>\n",
              "      <th>no_of_rooms</th>\n",
              "      <th>no_of_bathrooms</th>\n",
              "      <th>distance_to_school</th>\n",
              "      <th>house_age</th>\n",
              "      <th>distance_to_supermarket_km</th>\n",
              "      <th>crime_rate_index</th>\n",
              "      <th>property_value</th>\n",
              "      <th>Fator 1</th>\n",
              "      <th>Fator 2</th>\n",
              "      <th>Fator 3</th>\n",
              "    </tr>\n",
              "  </thead>\n",
              "  <tbody>\n",
              "    <tr>\n",
              "      <th>0</th>\n",
              "      <td>201</td>\n",
              "      <td>177</td>\n",
              "      <td>3</td>\n",
              "      <td>1</td>\n",
              "      <td>3.3</td>\n",
              "      <td>10</td>\n",
              "      <td>6.8</td>\n",
              "      <td>0.90</td>\n",
              "      <td>165432</td>\n",
              "      <td>-0.763931</td>\n",
              "      <td>0.409791</td>\n",
              "      <td>-0.005071</td>\n",
              "    </tr>\n",
              "    <tr>\n",
              "      <th>1</th>\n",
              "      <td>196</td>\n",
              "      <td>182</td>\n",
              "      <td>4</td>\n",
              "      <td>3</td>\n",
              "      <td>1.2</td>\n",
              "      <td>11</td>\n",
              "      <td>4.1</td>\n",
              "      <td>1.42</td>\n",
              "      <td>187043</td>\n",
              "      <td>-0.286895</td>\n",
              "      <td>-0.720208</td>\n",
              "      <td>-0.507750</td>\n",
              "    </tr>\n",
              "    <tr>\n",
              "      <th>2</th>\n",
              "      <td>198</td>\n",
              "      <td>182</td>\n",
              "      <td>4</td>\n",
              "      <td>4</td>\n",
              "      <td>5.9</td>\n",
              "      <td>20</td>\n",
              "      <td>2.1</td>\n",
              "      <td>4.12</td>\n",
              "      <td>148658</td>\n",
              "      <td>-0.132644</td>\n",
              "      <td>0.413418</td>\n",
              "      <td>1.559236</td>\n",
              "    </tr>\n",
              "    <tr>\n",
              "      <th>3</th>\n",
              "      <td>178</td>\n",
              "      <td>166</td>\n",
              "      <td>2</td>\n",
              "      <td>3</td>\n",
              "      <td>5.9</td>\n",
              "      <td>5</td>\n",
              "      <td>0.7</td>\n",
              "      <td>4.36</td>\n",
              "      <td>123785</td>\n",
              "      <td>-0.734837</td>\n",
              "      <td>-0.181887</td>\n",
              "      <td>-0.025554</td>\n",
              "    </tr>\n",
              "    <tr>\n",
              "      <th>4</th>\n",
              "      <td>183</td>\n",
              "      <td>165</td>\n",
              "      <td>3</td>\n",
              "      <td>1</td>\n",
              "      <td>3.8</td>\n",
              "      <td>8</td>\n",
              "      <td>0.7</td>\n",
              "      <td>0.42</td>\n",
              "      <td>156470</td>\n",
              "      <td>-0.850848</td>\n",
              "      <td>-1.858475</td>\n",
              "      <td>0.369112</td>\n",
              "    </tr>\n",
              "  </tbody>\n",
              "</table>\n",
              "</div>\n",
              "      <button class=\"colab-df-convert\" onclick=\"convertToInteractive('df-0b5a3a9c-0daa-4e95-b317-e71f47ea2a64')\"\n",
              "              title=\"Convert this dataframe to an interactive table.\"\n",
              "              style=\"display:none;\">\n",
              "        \n",
              "  <svg xmlns=\"http://www.w3.org/2000/svg\" height=\"24px\"viewBox=\"0 0 24 24\"\n",
              "       width=\"24px\">\n",
              "    <path d=\"M0 0h24v24H0V0z\" fill=\"none\"/>\n",
              "    <path d=\"M18.56 5.44l.94 2.06.94-2.06 2.06-.94-2.06-.94-.94-2.06-.94 2.06-2.06.94zm-11 1L8.5 8.5l.94-2.06 2.06-.94-2.06-.94L8.5 2.5l-.94 2.06-2.06.94zm10 10l.94 2.06.94-2.06 2.06-.94-2.06-.94-.94-2.06-.94 2.06-2.06.94z\"/><path d=\"M17.41 7.96l-1.37-1.37c-.4-.4-.92-.59-1.43-.59-.52 0-1.04.2-1.43.59L10.3 9.45l-7.72 7.72c-.78.78-.78 2.05 0 2.83L4 21.41c.39.39.9.59 1.41.59.51 0 1.02-.2 1.41-.59l7.78-7.78 2.81-2.81c.8-.78.8-2.07 0-2.86zM5.41 20L4 18.59l7.72-7.72 1.47 1.35L5.41 20z\"/>\n",
              "  </svg>\n",
              "      </button>\n",
              "      \n",
              "  <style>\n",
              "    .colab-df-container {\n",
              "      display:flex;\n",
              "      flex-wrap:wrap;\n",
              "      gap: 12px;\n",
              "    }\n",
              "\n",
              "    .colab-df-convert {\n",
              "      background-color: #E8F0FE;\n",
              "      border: none;\n",
              "      border-radius: 50%;\n",
              "      cursor: pointer;\n",
              "      display: none;\n",
              "      fill: #1967D2;\n",
              "      height: 32px;\n",
              "      padding: 0 0 0 0;\n",
              "      width: 32px;\n",
              "    }\n",
              "\n",
              "    .colab-df-convert:hover {\n",
              "      background-color: #E2EBFA;\n",
              "      box-shadow: 0px 1px 2px rgba(60, 64, 67, 0.3), 0px 1px 3px 1px rgba(60, 64, 67, 0.15);\n",
              "      fill: #174EA6;\n",
              "    }\n",
              "\n",
              "    [theme=dark] .colab-df-convert {\n",
              "      background-color: #3B4455;\n",
              "      fill: #D2E3FC;\n",
              "    }\n",
              "\n",
              "    [theme=dark] .colab-df-convert:hover {\n",
              "      background-color: #434B5C;\n",
              "      box-shadow: 0px 1px 3px 1px rgba(0, 0, 0, 0.15);\n",
              "      filter: drop-shadow(0px 1px 2px rgba(0, 0, 0, 0.3));\n",
              "      fill: #FFFFFF;\n",
              "    }\n",
              "  </style>\n",
              "\n",
              "      <script>\n",
              "        const buttonEl =\n",
              "          document.querySelector('#df-0b5a3a9c-0daa-4e95-b317-e71f47ea2a64 button.colab-df-convert');\n",
              "        buttonEl.style.display =\n",
              "          google.colab.kernel.accessAllowed ? 'block' : 'none';\n",
              "\n",
              "        async function convertToInteractive(key) {\n",
              "          const element = document.querySelector('#df-0b5a3a9c-0daa-4e95-b317-e71f47ea2a64');\n",
              "          const dataTable =\n",
              "            await google.colab.kernel.invokeFunction('convertToInteractive',\n",
              "                                                     [key], {});\n",
              "          if (!dataTable) return;\n",
              "\n",
              "          const docLinkHtml = 'Like what you see? Visit the ' +\n",
              "            '<a target=\"_blank\" href=https://colab.research.google.com/notebooks/data_table.ipynb>data table notebook</a>'\n",
              "            + ' to learn more about interactive tables.';\n",
              "          element.innerHTML = '';\n",
              "          dataTable['output_type'] = 'display_data';\n",
              "          await google.colab.output.renderOutput(dataTable, element);\n",
              "          const docLink = document.createElement('div');\n",
              "          docLink.innerHTML = docLinkHtml;\n",
              "          element.appendChild(docLink);\n",
              "        }\n",
              "      </script>\n",
              "    </div>\n",
              "  </div>\n",
              "  "
            ]
          },
          "metadata": {},
          "execution_count": 22
        }
      ]
    },
    {
      "cell_type": "markdown",
      "source": [
        "Identificando os scores fatoriais"
      ],
      "metadata": {
        "id": "l9wfWnOAi07o"
      }
    },
    {
      "cell_type": "code",
      "source": [
        "scores = fa.weights_\n",
        "tabela_scores = pd.DataFrame(scores)\n",
        "tabela_scores.columns = [f\"Fator {i+1}\" for i, v in enumerate(tabela_scores.columns)]\n",
        "tabela_scores.index = casas_pca.columns\n",
        "tabela_scores\n",
        "print(tabela_scores)"
      ],
      "metadata": {
        "colab": {
          "base_uri": "https://localhost:8080/"
        },
        "id": "kW6vJkDQjCYx",
        "outputId": "37735c78-ae1a-4813-8507-a9295ab503e2"
      },
      "execution_count": 23,
      "outputs": [
        {
          "output_type": "stream",
          "name": "stdout",
          "text": [
            "                             Fator 1   Fator 2   Fator 3\n",
            "land_size_sqm               0.281714  0.000657  0.003377\n",
            "house_size_sqm              0.281292 -0.000784  0.004987\n",
            "no_of_rooms                 0.275723 -0.002487  0.002906\n",
            "no_of_bathrooms             0.236809 -0.002405 -0.002837\n",
            "distance_to_school         -0.004007  0.343163  0.635100\n",
            "house_age                   0.002165  0.078806  0.684691\n",
            "distance_to_supermarket_km -0.000287  0.706245 -0.112164\n",
            "crime_rate_index            0.004510  0.598101 -0.322158\n"
          ]
        }
      ]
    },
    {
      "cell_type": "markdown",
      "source": [
        "Correlação entre os fatores\n",
        "*  A seguir, verifica-se que a correlação entre os fatores é zero (ortogonais)"
      ],
      "metadata": {
        "id": "mI_5dW0KjIKs"
      }
    },
    {
      "cell_type": "code",
      "source": [
        "corr_fator = pg.rcorr(casas[['Fator 1','Fator 2','Fator 3']], method = 'pearson', upper = 'pval', decimals = 4, pval_stars = {0.01: '***', 0.05: '**', 0.10: '*'})\n",
        "print(corr_fator)"
      ],
      "metadata": {
        "colab": {
          "base_uri": "https://localhost:8080/"
        },
        "id": "lcLDlZFwjL6d",
        "outputId": "857550b9-7e48-4ad2-8999-4555d1ba150c"
      },
      "execution_count": 24,
      "outputs": [
        {
          "output_type": "stream",
          "name": "stdout",
          "text": [
            "        Fator 1 Fator 2 Fator 3\n",
            "Fator 1       -                \n",
            "Fator 2     0.0       -        \n",
            "Fator 3     0.0     0.0       -\n"
          ]
        }
      ]
    },
    {
      "cell_type": "markdown",
      "source": [
        "##Criando um ranking"
      ],
      "metadata": {
        "id": "XKR91zAujOaO"
      }
    },
    {
      "cell_type": "code",
      "source": [
        "casas['Ranking'] = 0\n",
        "\n",
        "for index, item in enumerate(list(tabela_eigen.index)):\n",
        "    variancia = tabela_eigen.loc[item]['Variância']\n",
        "\n",
        "    casas['Ranking'] = casas['Ranking'] + casas[tabela_eigen.index[index]]*variancia\n",
        "    \n",
        "print(casas)"
      ],
      "metadata": {
        "colab": {
          "base_uri": "https://localhost:8080/"
        },
        "id": "rR42TGlfjRgS",
        "outputId": "be6799af-4690-4de5-be06-56e354e0380d"
      },
      "execution_count": 25,
      "outputs": [
        {
          "output_type": "stream",
          "name": "stdout",
          "text": [
            "      land_size_sqm  house_size_sqm  no_of_rooms  no_of_bathrooms  \\\n",
            "0               201             177            3                1   \n",
            "1               196             182            4                3   \n",
            "2               198             182            4                4   \n",
            "3               178             166            2                3   \n",
            "4               183             165            3                1   \n",
            "...             ...             ...          ...              ...   \n",
            "4949            297             261            4                4   \n",
            "4950            302             282            4                2   \n",
            "4951            153             147            3                4   \n",
            "4952            180             158            2                1   \n",
            "4953            695             619            8                6   \n",
            "\n",
            "      distance_to_school  house_age  distance_to_supermarket_km  \\\n",
            "0                    3.3         10                         6.8   \n",
            "1                    1.2         11                         4.1   \n",
            "2                    5.9         20                         2.1   \n",
            "3                    5.9          5                         0.7   \n",
            "4                    3.8          8                         0.7   \n",
            "...                  ...        ...                         ...   \n",
            "4949                 2.9         20                         4.1   \n",
            "4950                 3.8         12                         4.8   \n",
            "4951                 3.3          7                         4.7   \n",
            "4952                 2.2          1                         3.4   \n",
            "4953                 0.4          5                         0.4   \n",
            "\n",
            "      crime_rate_index  property_value   Fator 1   Fator 2   Fator 3   Ranking  \n",
            "0                 0.90          165432 -0.763931  0.409791 -0.005071 -0.276964  \n",
            "1                 1.42          187043 -0.286895 -0.720208 -0.507750 -0.279412  \n",
            "2                 4.12          148658 -0.132644  0.413418  1.559236  0.192813  \n",
            "3                 4.36          123785 -0.734837 -0.181887 -0.025554 -0.342472  \n",
            "4                 0.42          156470 -0.850848 -1.858475  0.369112 -0.556207  \n",
            "...                ...             ...       ...       ...       ...       ...  \n",
            "4949              3.99          235882  0.378174  0.565149  0.528827  0.301569  \n",
            "4950              2.09          290995  0.149131  0.216979  0.269514  0.125882  \n",
            "4951              3.98          106428 -0.533601  0.683343 -0.789444 -0.242205  \n",
            "4952              3.75          107579 -1.044735 -0.113250 -1.662989 -0.674053  \n",
            "4953              4.64          537980  3.523850 -1.146633 -1.754357  1.147592  \n",
            "\n",
            "[4954 rows x 13 columns]\n"
          ]
        }
      ]
    },
    {
      "cell_type": "markdown",
      "source": [
        "Gráfico da variância acumulada dos componentes principais"
      ],
      "metadata": {
        "id": "2JFGMsdAjlRt"
      }
    },
    {
      "cell_type": "code",
      "source": [
        "\n",
        "plt.figure(figsize=(12,8))\n",
        "plt.title(f\"{tabela_eigen.shape[0]} componentes principais que explicam {round(tabela_eigen['Variância'].sum()*100,2)}% da variância\", fontsize=14)\n",
        "sns.barplot(x=tabela_eigen.index, y=tabela_eigen['Variância'], data=tabela_eigen, color='green')\n",
        "plt.xlabel(\"Componentes principais\", fontsize=14)\n",
        "plt.ylabel(\"Porcentagem de variância explicada\", fontsize=14)\n",
        "plt.show()"
      ],
      "metadata": {
        "colab": {
          "base_uri": "https://localhost:8080/",
          "height": 518
        },
        "id": "jfBIf2bcjhI2",
        "outputId": "eff30388-062c-4344-ff32-e83368f22c55"
      },
      "execution_count": 26,
      "outputs": [
        {
          "output_type": "display_data",
          "data": {
            "text/plain": [
              "<Figure size 864x576 with 1 Axes>"
            ],
            "image/png": "[encoded data removed]"
          },
          "metadata": {
            "needs_background": "light"
          }
        }
      ]
    },
    {
      "cell_type": "markdown",
      "source": [],
      "metadata": {
        "id": "_EEQCUIrtyr7"
      }
    },
    {
      "cell_type": "code",
      "source": [
        "import plotly.express as px\n",
        "tabela_cargas_chart = tabela_cargas.reset_index()\n",
        "tabela_cargas_chart.columns=['Variável','Fator 1','Fator 2','Fator 3']\n",
        "df = px.data.iris()\n",
        "fig = px.scatter_3d(tabela_cargas_chart, x='Fator 1', y='Fator 2', z='Fator 3',\n",
        "              color='Variável')\n",
        "fig.show()"
      ],
      "metadata": {
        "colab": {
          "base_uri": "https://localhost:8080/",
          "height": 542
        },
        "id": "PIX2yrkGtaFg",
        "outputId": "de5d2c32-58c3-47d9-fc17-38c311306ab2"
      },
      "execution_count": 31,
      "outputs": [
        {
          "output_type": "display_data",
          "data": {
            "text/html": [
              "<html>\n",
              "<head><meta charset=\"utf-8\" /></head>\n",
              "<body>\n",
              "    <div>            <script src=\"https://cdnjs.cloudflare.com/ajax/libs/mathjax/2.7.5/MathJax.js?config=TeX-AMS-MML_SVG\"></script><script type=\"text/javascript\">if (window.MathJax) {MathJax.Hub.Config({SVG: {font: \"STIX-Web\"}});}</script>                <script type=\"text/javascript\">window.PlotlyConfig = {MathJaxConfig: 'local'};</script>\n",
              "        <script src=\"https://cdn.plot.ly/plotly-2.8.3.min.js\"></script>                <div id=\"e5b60db9-b346-40ad-8aec-233df4bcc3e1\" class=\"plotly-graph-div\" style=\"height:525px; width:100%;\"></div>            <script type=\"text/javascript\">                                    window.PLOTLYENV=window.PLOTLYENV || {};                                    if (document.getElementById(\"e5b60db9-b346-40ad-8aec-233df4bcc3e1\")) {                    Plotly.newPlot(                        \"e5b60db9-b346-40ad-8aec-233df4bcc3e1\",                        [{\"hovertemplate\":\"Vari\\u00e1vel=land_size_sqm<br>Fator 1=%{x}<br>Fator 2=%{y}<br>Fator 3=%{z}<extra></extra>\",\"legendgroup\":\"land_size_sqm\",\"marker\":{\"color\":\"#636efa\",\"symbol\":\"circle\"},\"mode\":\"markers\",\"name\":\"land_size_sqm\",\"scene\":\"scene\",\"showlegend\":true,\"x\":[0.9693181875067886],\"y\":[0.0006697303609651867],\"z\":[0.0034163929669495364],\"type\":\"scatter3d\"},{\"hovertemplate\":\"Vari\\u00e1vel=house_size_sqm<br>Fator 1=%{x}<br>Fator 2=%{y}<br>Fator 3=%{z}<extra></extra>\",\"legendgroup\":\"house_size_sqm\",\"marker\":{\"color\":\"#EF553B\",\"symbol\":\"circle\"},\"mode\":\"markers\",\"name\":\"house_size_sqm\",\"scene\":\"scene\",\"showlegend\":true,\"x\":[0.9678662644613726],\"y\":[-0.0008000235401899164],\"z\":[0.005044808349060445],\"type\":\"scatter3d\"},{\"hovertemplate\":\"Vari\\u00e1vel=no_of_rooms<br>Fator 1=%{x}<br>Fator 2=%{y}<br>Fator 3=%{z}<extra></extra>\",\"legendgroup\":\"no_of_rooms\",\"marker\":{\"color\":\"#00cc96\",\"symbol\":\"circle\"},\"mode\":\"markers\",\"name\":\"no_of_rooms\",\"scene\":\"scene\",\"showlegend\":true,\"x\":[0.9487053109989845],\"y\":[-0.002536108182556692],\"z\":[0.0029394853492380685],\"type\":\"scatter3d\"},{\"hovertemplate\":\"Vari\\u00e1vel=no_of_bathrooms<br>Fator 1=%{x}<br>Fator 2=%{y}<br>Fator 3=%{z}<extra></extra>\",\"legendgroup\":\"no_of_bathrooms\",\"marker\":{\"color\":\"#ab63fa\",\"symbol\":\"circle\"},\"mode\":\"markers\",\"name\":\"no_of_bathrooms\",\"scene\":\"scene\",\"showlegend\":true,\"x\":[0.8148103541791801],\"y\":[-0.0024526029151928763],\"z\":[-0.0028701146601302747],\"type\":\"scatter3d\"},{\"hovertemplate\":\"Vari\\u00e1vel=distance_to_school<br>Fator 1=%{x}<br>Fator 2=%{y}<br>Fator 3=%{z}<extra></extra>\",\"legendgroup\":\"distance_to_school\",\"marker\":{\"color\":\"#FFA15A\",\"symbol\":\"circle\"},\"mode\":\"markers\",\"name\":\"distance_to_school\",\"scene\":\"scene\",\"showlegend\":true,\"x\":[-0.013787185200955374],\"y\":[0.34999064647175954],\"z\":[0.6424407420435978],\"type\":\"scatter3d\"},{\"hovertemplate\":\"Vari\\u00e1vel=house_age<br>Fator 1=%{x}<br>Fator 2=%{y}<br>Fator 3=%{z}<extra></extra>\",\"legendgroup\":\"house_age\",\"marker\":{\"color\":\"#19d3f3\",\"symbol\":\"circle\"},\"mode\":\"markers\",\"name\":\"house_age\",\"scene\":\"scene\",\"showlegend\":true,\"x\":[0.0074482003181796895],\"y\":[0.0803740336734423],\"z\":[0.6926058715060179],\"type\":\"scatter3d\"},{\"hovertemplate\":\"Vari\\u00e1vel=distance_to_supermarket_km<br>Fator 1=%{x}<br>Fator 2=%{y}<br>Fator 3=%{z}<extra></extra>\",\"legendgroup\":\"distance_to_supermarket_km\",\"marker\":{\"color\":\"#FF6692\",\"symbol\":\"circle\"},\"mode\":\"markers\",\"name\":\"distance_to_supermarket_km\",\"scene\":\"scene\",\"showlegend\":true,\"x\":[-0.0009865998631809333],\"y\":[0.7202967399283473],\"z\":[-0.11346083807425102],\"type\":\"scatter3d\"},{\"hovertemplate\":\"Vari\\u00e1vel=crime_rate_index<br>Fator 1=%{x}<br>Fator 2=%{y}<br>Fator 3=%{z}<extra></extra>\",\"legendgroup\":\"crime_rate_index\",\"marker\":{\"color\":\"#B6E880\",\"symbol\":\"circle\"},\"mode\":\"markers\",\"name\":\"crime_rate_index\",\"scene\":\"scene\",\"showlegend\":true,\"x\":[0.015519554721684568],\"y\":[0.6100012739365742],\"z\":[-0.32588152104109713],\"type\":\"scatter3d\"}],                        {\"template\":{\"data\":{\"bar\":[{\"error_x\":{\"color\":\"#2a3f5f\"},\"error_y\":{\"color\":\"#2a3f5f\"},\"marker\":{\"line\":{\"color\":\"#E5ECF6\",\"width\":0.5},\"pattern\":{\"fillmode\":\"overlay\",\"size\":10,\"solidity\":0.2}},\"type\":\"bar\"}],\"barpolar\":[{\"marker\":{\"line\":{\"color\":\"#E5ECF6\",\"width\":0.5},\"pattern\":{\"fillmode\":\"overlay\",\"size\":10,\"solidity\":0.2}},\"type\":\"barpolar\"}],\"carpet\":[{\"aaxis\":{\"endlinecolor\":\"#2a3f5f\",\"gridcolor\":\"white\",\"linecolor\":\"white\",\"minorgridcolor\":\"white\",\"startlinecolor\":\"#2a3f5f\"},\"baxis\":{\"endlinecolor\":\"#2a3f5f\",\"gridcolor\":\"white\",\"linecolor\":\"white\",\"minorgridcolor\":\"white\",\"startlinecolor\":\"#2a3f5f\"},\"type\":\"carpet\"}],\"choropleth\":[{\"colorbar\":{\"outlinewidth\":0,\"ticks\":\"\"},\"type\":\"choropleth\"}],\"contour\":[{\"colorbar\":{\"outlinewidth\":0,\"ticks\":\"\"},\"colorscale\":[[0.0,\"#0d0887\"],[0.1111111111111111,\"#46039f\"],[0.2222222222222222,\"#7201a8\"],[0.3333333333333333,\"#9c179e\"],[0.4444444444444444,\"#bd3786\"],[0.5555555555555556,\"#d8576b\"],[0.6666666666666666,\"#ed7953\"],[0.7777777777777778,\"#fb9f3a\"],[0.8888888888888888,\"#fdca26\"],[1.0,\"#f0f921\"]],\"type\":\"contour\"}],\"contourcarpet\":[{\"colorbar\":{\"outlinewidth\":0,\"ticks\":\"\"},\"type\":\"contourcarpet\"}],\"heatmap\":[{\"colorbar\":{\"outlinewidth\":0,\"ticks\":\"\"},\"colorscale\":[[0.0,\"#0d0887\"],[0.1111111111111111,\"#46039f\"],[0.2222222222222222,\"#7201a8\"],[0.3333333333333333,\"#9c179e\"],[0.4444444444444444,\"#bd3786\"],[0.5555555555555556,\"#d8576b\"],[0.6666666666666666,\"#ed7953\"],[0.7777777777777778,\"#fb9f3a\"],[0.8888888888888888,\"#fdca26\"],[1.0,\"#f0f921\"]],\"type\":\"heatmap\"}],\"heatmapgl\":[{\"colorbar\":{\"outlinewidth\":0,\"ticks\":\"\"},\"colorscale\":[[0.0,\"#0d0887\"],[0.1111111111111111,\"#46039f\"],[0.2222222222222222,\"#7201a8\"],[0.3333333333333333,\"#9c179e\"],[0.4444444444444444,\"#bd3786\"],[0.5555555555555556,\"#d8576b\"],[0.6666666666666666,\"#ed7953\"],[0.7777777777777778,\"#fb9f3a\"],[0.8888888888888888,\"#fdca26\"],[1.0,\"#f0f921\"]],\"type\":\"heatmapgl\"}],\"histogram\":[{\"marker\":{\"pattern\":{\"fillmode\":\"overlay\",\"size\":10,\"solidity\":0.2}},\"type\":\"histogram\"}],\"histogram2d\":[{\"colorbar\":{\"outlinewidth\":0,\"ticks\":\"\"},\"colorscale\":[[0.0,\"#0d0887\"],[0.1111111111111111,\"#46039f\"],[0.2222222222222222,\"#7201a8\"],[0.3333333333333333,\"#9c179e\"],[0.4444444444444444,\"#bd3786\"],[0.5555555555555556,\"#d8576b\"],[0.6666666666666666,\"#ed7953\"],[0.7777777777777778,\"#fb9f3a\"],[0.8888888888888888,\"#fdca26\"],[1.0,\"#f0f921\"]],\"type\":\"histogram2d\"}],\"histogram2dcontour\":[{\"colorbar\":{\"outlinewidth\":0,\"ticks\":\"\"},\"colorscale\":[[0.0,\"#0d0887\"],[0.1111111111111111,\"#46039f\"],[0.2222222222222222,\"#7201a8\"],[0.3333333333333333,\"#9c179e\"],[0.4444444444444444,\"#bd3786\"],[0.5555555555555556,\"#d8576b\"],[0.6666666666666666,\"#ed7953\"],[0.7777777777777778,\"#fb9f3a\"],[0.8888888888888888,\"#fdca26\"],[1.0,\"#f0f921\"]],\"type\":\"histogram2dcontour\"}],\"mesh3d\":[{\"colorbar\":{\"outlinewidth\":0,\"ticks\":\"\"},\"type\":\"mesh3d\"}],\"parcoords\":[{\"line\":{\"colorbar\":{\"outlinewidth\":0,\"ticks\":\"\"}},\"type\":\"parcoords\"}],\"pie\":[{\"automargin\":true,\"type\":\"pie\"}],\"scatter\":[{\"marker\":{\"colorbar\":{\"outlinewidth\":0,\"ticks\":\"\"}},\"type\":\"scatter\"}],\"scatter3d\":[{\"line\":{\"colorbar\":{\"outlinewidth\":0,\"ticks\":\"\"}},\"marker\":{\"colorbar\":{\"outlinewidth\":0,\"ticks\":\"\"}},\"type\":\"scatter3d\"}],\"scattercarpet\":[{\"marker\":{\"colorbar\":{\"outlinewidth\":0,\"ticks\":\"\"}},\"type\":\"scattercarpet\"}],\"scattergeo\":[{\"marker\":{\"colorbar\":{\"outlinewidth\":0,\"ticks\":\"\"}},\"type\":\"scattergeo\"}],\"scattergl\":[{\"marker\":{\"colorbar\":{\"outlinewidth\":0,\"ticks\":\"\"}},\"type\":\"scattergl\"}],\"scattermapbox\":[{\"marker\":{\"colorbar\":{\"outlinewidth\":0,\"ticks\":\"\"}},\"type\":\"scattermapbox\"}],\"scatterpolar\":[{\"marker\":{\"colorbar\":{\"outlinewidth\":0,\"ticks\":\"\"}},\"type\":\"scatterpolar\"}],\"scatterpolargl\":[{\"marker\":{\"colorbar\":{\"outlinewidth\":0,\"ticks\":\"\"}},\"type\":\"scatterpolargl\"}],\"scatterternary\":[{\"marker\":{\"colorbar\":{\"outlinewidth\":0,\"ticks\":\"\"}},\"type\":\"scatterternary\"}],\"surface\":[{\"colorbar\":{\"outlinewidth\":0,\"ticks\":\"\"},\"colorscale\":[[0.0,\"#0d0887\"],[0.1111111111111111,\"#46039f\"],[0.2222222222222222,\"#7201a8\"],[0.3333333333333333,\"#9c179e\"],[0.4444444444444444,\"#bd3786\"],[0.5555555555555556,\"#d8576b\"],[0.6666666666666666,\"#ed7953\"],[0.7777777777777778,\"#fb9f3a\"],[0.8888888888888888,\"#fdca26\"],[1.0,\"#f0f921\"]],\"type\":\"surface\"}],\"table\":[{\"cells\":{\"fill\":{\"color\":\"#EBF0F8\"},\"line\":{\"color\":\"white\"}},\"header\":{\"fill\":{\"color\":\"#C8D4E3\"},\"line\":{\"color\":\"white\"}},\"type\":\"table\"}]},\"layout\":{\"annotationdefaults\":{\"arrowcolor\":\"#2a3f5f\",\"arrowhead\":0,\"arrowwidth\":1},\"autotypenumbers\":\"strict\",\"coloraxis\":{\"colorbar\":{\"outlinewidth\":0,\"ticks\":\"\"}},\"colorscale\":{\"diverging\":[[0,\"#8e0152\"],[0.1,\"#c51b7d\"],[0.2,\"#de77ae\"],[0.3,\"#f1b6da\"],[0.4,\"#fde0ef\"],[0.5,\"#f7f7f7\"],[0.6,\"#e6f5d0\"],[0.7,\"#b8e186\"],[0.8,\"#7fbc41\"],[0.9,\"#4d9221\"],[1,\"#276419\"]],\"sequential\":[[0.0,\"#0d0887\"],[0.1111111111111111,\"#46039f\"],[0.2222222222222222,\"#7201a8\"],[0.3333333333333333,\"#9c179e\"],[0.4444444444444444,\"#bd3786\"],[0.5555555555555556,\"#d8576b\"],[0.6666666666666666,\"#ed7953\"],[0.7777777777777778,\"#fb9f3a\"],[0.8888888888888888,\"#fdca26\"],[1.0,\"#f0f921\"]],\"sequentialminus\":[[0.0,\"#0d0887\"],[0.1111111111111111,\"#46039f\"],[0.2222222222222222,\"#7201a8\"],[0.3333333333333333,\"#9c179e\"],[0.4444444444444444,\"#bd3786\"],[0.5555555555555556,\"#d8576b\"],[0.6666666666666666,\"#ed7953\"],[0.7777777777777778,\"#fb9f3a\"],[0.8888888888888888,\"#fdca26\"],[1.0,\"#f0f921\"]]},\"colorway\":[\"#636efa\",\"#EF553B\",\"#00cc96\",\"#ab63fa\",\"#FFA15A\",\"#19d3f3\",\"#FF6692\",\"#B6E880\",\"#FF97FF\",\"#FECB52\"],\"font\":{\"color\":\"#2a3f5f\"},\"geo\":{\"bgcolor\":\"white\",\"lakecolor\":\"white\",\"landcolor\":\"#E5ECF6\",\"showlakes\":true,\"showland\":true,\"subunitcolor\":\"white\"},\"hoverlabel\":{\"align\":\"left\"},\"hovermode\":\"closest\",\"mapbox\":{\"style\":\"light\"},\"paper_bgcolor\":\"white\",\"plot_bgcolor\":\"#E5ECF6\",\"polar\":{\"angularaxis\":{\"gridcolor\":\"white\",\"linecolor\":\"white\",\"ticks\":\"\"},\"bgcolor\":\"#E5ECF6\",\"radialaxis\":{\"gridcolor\":\"white\",\"linecolor\":\"white\",\"ticks\":\"\"}},\"scene\":{\"xaxis\":{\"backgroundcolor\":\"#E5ECF6\",\"gridcolor\":\"white\",\"gridwidth\":2,\"linecolor\":\"white\",\"showbackground\":true,\"ticks\":\"\",\"zerolinecolor\":\"white\"},\"yaxis\":{\"backgroundcolor\":\"#E5ECF6\",\"gridcolor\":\"white\",\"gridwidth\":2,\"linecolor\":\"white\",\"showbackground\":true,\"ticks\":\"\",\"zerolinecolor\":\"white\"},\"zaxis\":{\"backgroundcolor\":\"#E5ECF6\",\"gridcolor\":\"white\",\"gridwidth\":2,\"linecolor\":\"white\",\"showbackground\":true,\"ticks\":\"\",\"zerolinecolor\":\"white\"}},\"shapedefaults\":{\"line\":{\"color\":\"#2a3f5f\"}},\"ternary\":{\"aaxis\":{\"gridcolor\":\"white\",\"linecolor\":\"white\",\"ticks\":\"\"},\"baxis\":{\"gridcolor\":\"white\",\"linecolor\":\"white\",\"ticks\":\"\"},\"bgcolor\":\"#E5ECF6\",\"caxis\":{\"gridcolor\":\"white\",\"linecolor\":\"white\",\"ticks\":\"\"}},\"title\":{\"x\":0.05},\"xaxis\":{\"automargin\":true,\"gridcolor\":\"white\",\"linecolor\":\"white\",\"ticks\":\"\",\"title\":{\"standoff\":15},\"zerolinecolor\":\"white\",\"zerolinewidth\":2},\"yaxis\":{\"automargin\":true,\"gridcolor\":\"white\",\"linecolor\":\"white\",\"ticks\":\"\",\"title\":{\"standoff\":15},\"zerolinecolor\":\"white\",\"zerolinewidth\":2}}},\"scene\":{\"domain\":{\"x\":[0.0,1.0],\"y\":[0.0,1.0]},\"xaxis\":{\"title\":{\"text\":\"Fator 1\"}},\"yaxis\":{\"title\":{\"text\":\"Fator 2\"}},\"zaxis\":{\"title\":{\"text\":\"Fator 3\"}}},\"legend\":{\"title\":{\"text\":\"Vari\\u00e1vel\"},\"tracegroupgap\":0},\"margin\":{\"t\":60}},                        {\"responsive\": true}                    ).then(function(){\n",
              "                            \n",
              "var gd = document.getElementById('e5b60db9-b346-40ad-8aec-233df4bcc3e1');\n",
              "var x = new MutationObserver(function (mutations, observer) {{\n",
              "        var display = window.getComputedStyle(gd).display;\n",
              "        if (!display || display === 'none') {{\n",
              "            console.log([gd, 'removed!']);\n",
              "            Plotly.purge(gd);\n",
              "            observer.disconnect();\n",
              "        }}\n",
              "}});\n",
              "\n",
              "// Listen for the removal of the full notebook cells\n",
              "var notebookContainer = gd.closest('#notebook-container');\n",
              "if (notebookContainer) {{\n",
              "    x.observe(notebookContainer, {childList: true});\n",
              "}}\n",
              "\n",
              "// Listen for the clearing of the current output cell\n",
              "var outputEl = gd.closest('.output');\n",
              "if (outputEl) {{\n",
              "    x.observe(outputEl, {childList: true});\n",
              "}}\n",
              "\n",
              "                        })                };                            </script>        </div>\n",
              "</body>\n",
              "</html>"
            ]
          },
          "metadata": {}
        }
      ]
    }
  ]
}