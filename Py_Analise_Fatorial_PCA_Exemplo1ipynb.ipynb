{
  "nbformat": 4,
  "nbformat_minor": 0,
  "metadata": {
    "colab": {
      "provenance": [],
      "authorship_tag": "ABX9TyMtVgwAFm+aUTTMUFDA3zHr",
      "include_colab_link": true
    },
    "kernelspec": {
      "name": "python3",
      "display_name": "Python 3"
    },
    "language_info": {
      "name": "python"
    }
  },
  "cells": [
    {
      "cell_type": "markdown",
      "metadata": {
        "id": "view-in-github",
        "colab_type": "text"
      },
      "source": [
        "<a href=\"https://colab.research.google.com/github/FranziskoB/Analise_Fatorial_PCA/blob/main/Py_Analise_Fatorial_PCA_Exemplo1ipynb.ipynb\" target=\"_parent\"><img src=\"https://colab.research.google.com/assets/colab-badge.svg\" alt=\"Open In Colab\"/></a>"
      ]
    },
    {
      "cell_type": "markdown",
      "source": [
        "#Análises fatoriais e PCA"
      ],
      "metadata": {
        "id": "_JkjATgdbOqm"
      }
    },
    {
      "cell_type": "markdown",
      "source": [
        "Utilizando uma base de dados de notas de alunos, o objetivo da análise é criar um ranking desses alunos.\n",
        "\n"
      ],
      "metadata": {
        "id": "g54fQW9gbVI2"
      }
    },
    {
      "cell_type": "markdown",
      "source": [
        "##Importando bibliotecas"
      ],
      "metadata": {
        "id": "G_itTHfMbXrH"
      }
    },
    {
      "cell_type": "code",
      "execution_count": null,
      "metadata": {
        "id": "Qhr0Wfh9bH5K"
      },
      "outputs": [],
      "source": [
        "!pip install spicy\n",
        "!pip install factor_analyzer\n",
        "!pip install pingouin"
      ]
    },
    {
      "cell_type": "code",
      "source": [
        "import pandas as pd\n",
        "from factor_analyzer import FactorAnalyzer\n",
        "from factor_analyzer.factor_analyzer import calculate_bartlett_sphericity\n",
        "import pingouin as pg\n",
        "import seaborn as sns\n",
        "import numpy as np\n",
        "import matplotlib.pyplot as plt"
      ],
      "metadata": {
        "id": "L7B4J9oPfpJ2"
      },
      "execution_count": 5,
      "outputs": []
    },
    {
      "cell_type": "markdown",
      "source": [
        "##Carregamento da base de dados"
      ],
      "metadata": {
        "id": "0gb-yNUQbN5L"
      }
    },
    {
      "cell_type": "code",
      "source": [
        "notas = pd.read_excel(\"https://github.com/FranziskoB/Analise_Fatorial_PCA/raw/main/Dados/notas_fatorial.xlsx\")\n",
        "notas.head(5)"
      ],
      "metadata": {
        "colab": {
          "base_uri": "https://localhost:8080/",
          "height": 206
        },
        "id": "gz-NyzLSf1cm",
        "outputId": "1752a02e-e8a1-44ba-fda1-7d36cb85f2aa"
      },
      "execution_count": 25,
      "outputs": [
        {
          "output_type": "execute_result",
          "data": {
            "text/plain": [
              "     estudante  finanças  custos  marketing  atuária\n",
              "0     Gabriela       5.8     4.0        1.0      6.0\n",
              "1  Luiz Felipe       3.1     3.0       10.0      2.0\n",
              "2     Patrícia       3.1     4.0        4.0      4.0\n",
              "3      Gustavo      10.0     8.0        8.0      8.0\n",
              "4      Letícia       3.4     2.0        3.2      3.2"
            ],
            "text/html": [
              "\n",
              "  <div id=\"df-32387693-3c9b-4460-a3c6-6da54ab2a47e\">\n",
              "    <div class=\"colab-df-container\">\n",
              "      <div>\n",
              "<style scoped>\n",
              "    .dataframe tbody tr th:only-of-type {\n",
              "        vertical-align: middle;\n",
              "    }\n",
              "\n",
              "    .dataframe tbody tr th {\n",
              "        vertical-align: top;\n",
              "    }\n",
              "\n",
              "    .dataframe thead th {\n",
              "        text-align: right;\n",
              "    }\n",
              "</style>\n",
              "<table border=\"1\" class=\"dataframe\">\n",
              "  <thead>\n",
              "    <tr style=\"text-align: right;\">\n",
              "      <th></th>\n",
              "      <th>estudante</th>\n",
              "      <th>finanças</th>\n",
              "      <th>custos</th>\n",
              "      <th>marketing</th>\n",
              "      <th>atuária</th>\n",
              "    </tr>\n",
              "  </thead>\n",
              "  <tbody>\n",
              "    <tr>\n",
              "      <th>0</th>\n",
              "      <td>Gabriela</td>\n",
              "      <td>5.8</td>\n",
              "      <td>4.0</td>\n",
              "      <td>1.0</td>\n",
              "      <td>6.0</td>\n",
              "    </tr>\n",
              "    <tr>\n",
              "      <th>1</th>\n",
              "      <td>Luiz Felipe</td>\n",
              "      <td>3.1</td>\n",
              "      <td>3.0</td>\n",
              "      <td>10.0</td>\n",
              "      <td>2.0</td>\n",
              "    </tr>\n",
              "    <tr>\n",
              "      <th>2</th>\n",
              "      <td>Patrícia</td>\n",
              "      <td>3.1</td>\n",
              "      <td>4.0</td>\n",
              "      <td>4.0</td>\n",
              "      <td>4.0</td>\n",
              "    </tr>\n",
              "    <tr>\n",
              "      <th>3</th>\n",
              "      <td>Gustavo</td>\n",
              "      <td>10.0</td>\n",
              "      <td>8.0</td>\n",
              "      <td>8.0</td>\n",
              "      <td>8.0</td>\n",
              "    </tr>\n",
              "    <tr>\n",
              "      <th>4</th>\n",
              "      <td>Letícia</td>\n",
              "      <td>3.4</td>\n",
              "      <td>2.0</td>\n",
              "      <td>3.2</td>\n",
              "      <td>3.2</td>\n",
              "    </tr>\n",
              "  </tbody>\n",
              "</table>\n",
              "</div>\n",
              "      <button class=\"colab-df-convert\" onclick=\"convertToInteractive('df-32387693-3c9b-4460-a3c6-6da54ab2a47e')\"\n",
              "              title=\"Convert this dataframe to an interactive table.\"\n",
              "              style=\"display:none;\">\n",
              "        \n",
              "  <svg xmlns=\"http://www.w3.org/2000/svg\" height=\"24px\"viewBox=\"0 0 24 24\"\n",
              "       width=\"24px\">\n",
              "    <path d=\"M0 0h24v24H0V0z\" fill=\"none\"/>\n",
              "    <path d=\"M18.56 5.44l.94 2.06.94-2.06 2.06-.94-2.06-.94-.94-2.06-.94 2.06-2.06.94zm-11 1L8.5 8.5l.94-2.06 2.06-.94-2.06-.94L8.5 2.5l-.94 2.06-2.06.94zm10 10l.94 2.06.94-2.06 2.06-.94-2.06-.94-.94-2.06-.94 2.06-2.06.94z\"/><path d=\"M17.41 7.96l-1.37-1.37c-.4-.4-.92-.59-1.43-.59-.52 0-1.04.2-1.43.59L10.3 9.45l-7.72 7.72c-.78.78-.78 2.05 0 2.83L4 21.41c.39.39.9.59 1.41.59.51 0 1.02-.2 1.41-.59l7.78-7.78 2.81-2.81c.8-.78.8-2.07 0-2.86zM5.41 20L4 18.59l7.72-7.72 1.47 1.35L5.41 20z\"/>\n",
              "  </svg>\n",
              "      </button>\n",
              "      \n",
              "  <style>\n",
              "    .colab-df-container {\n",
              "      display:flex;\n",
              "      flex-wrap:wrap;\n",
              "      gap: 12px;\n",
              "    }\n",
              "\n",
              "    .colab-df-convert {\n",
              "      background-color: #E8F0FE;\n",
              "      border: none;\n",
              "      border-radius: 50%;\n",
              "      cursor: pointer;\n",
              "      display: none;\n",
              "      fill: #1967D2;\n",
              "      height: 32px;\n",
              "      padding: 0 0 0 0;\n",
              "      width: 32px;\n",
              "    }\n",
              "\n",
              "    .colab-df-convert:hover {\n",
              "      background-color: #E2EBFA;\n",
              "      box-shadow: 0px 1px 2px rgba(60, 64, 67, 0.3), 0px 1px 3px 1px rgba(60, 64, 67, 0.15);\n",
              "      fill: #174EA6;\n",
              "    }\n",
              "\n",
              "    [theme=dark] .colab-df-convert {\n",
              "      background-color: #3B4455;\n",
              "      fill: #D2E3FC;\n",
              "    }\n",
              "\n",
              "    [theme=dark] .colab-df-convert:hover {\n",
              "      background-color: #434B5C;\n",
              "      box-shadow: 0px 1px 3px 1px rgba(0, 0, 0, 0.15);\n",
              "      filter: drop-shadow(0px 1px 2px rgba(0, 0, 0, 0.3));\n",
              "      fill: #FFFFFF;\n",
              "    }\n",
              "  </style>\n",
              "\n",
              "      <script>\n",
              "        const buttonEl =\n",
              "          document.querySelector('#df-32387693-3c9b-4460-a3c6-6da54ab2a47e button.colab-df-convert');\n",
              "        buttonEl.style.display =\n",
              "          google.colab.kernel.accessAllowed ? 'block' : 'none';\n",
              "\n",
              "        async function convertToInteractive(key) {\n",
              "          const element = document.querySelector('#df-32387693-3c9b-4460-a3c6-6da54ab2a47e');\n",
              "          const dataTable =\n",
              "            await google.colab.kernel.invokeFunction('convertToInteractive',\n",
              "                                                     [key], {});\n",
              "          if (!dataTable) return;\n",
              "\n",
              "          const docLinkHtml = 'Like what you see? Visit the ' +\n",
              "            '<a target=\"_blank\" href=https://colab.research.google.com/notebooks/data_table.ipynb>data table notebook</a>'\n",
              "            + ' to learn more about interactive tables.';\n",
              "          element.innerHTML = '';\n",
              "          dataTable['output_type'] = 'display_data';\n",
              "          await google.colab.output.renderOutput(dataTable, element);\n",
              "          const docLink = document.createElement('div');\n",
              "          docLink.innerHTML = docLinkHtml;\n",
              "          element.appendChild(docLink);\n",
              "        }\n",
              "      </script>\n",
              "    </div>\n",
              "  </div>\n",
              "  "
            ]
          },
          "metadata": {},
          "execution_count": 25
        }
      ]
    },
    {
      "cell_type": "markdown",
      "source": [
        "##Informações sobre as variáveis"
      ],
      "metadata": {
        "id": "_RFdJxRcbOCG"
      }
    },
    {
      "cell_type": "code",
      "source": [
        "print(notas.info())\n",
        "print(notas.describe())"
      ],
      "metadata": {
        "colab": {
          "base_uri": "https://localhost:8080/"
        },
        "id": "3pM3g7RBgG_d",
        "outputId": "991aa2c6-158b-4834-d2e2-410072257221"
      },
      "execution_count": 8,
      "outputs": [
        {
          "output_type": "stream",
          "name": "stdout",
          "text": [
            "<class 'pandas.core.frame.DataFrame'>\n",
            "RangeIndex: 100 entries, 0 to 99\n",
            "Data columns (total 5 columns):\n",
            " #   Column     Non-Null Count  Dtype  \n",
            "---  ------     --------------  -----  \n",
            " 0   estudante  100 non-null    object \n",
            " 1   finanças   100 non-null    float64\n",
            " 2   custos     100 non-null    float64\n",
            " 3   marketing  100 non-null    float64\n",
            " 4   atuária    100 non-null    float64\n",
            "dtypes: float64(4), object(1)\n",
            "memory usage: 4.0+ KB\n",
            "None\n",
            "         finanças      custos   marketing     atuária\n",
            "count  100.000000  100.000000  100.000000  100.000000\n",
            "mean     5.834000    4.717000    5.668000    5.314000\n",
            "std      3.122749    2.455999    2.828351    2.513078\n",
            "min      0.600000    1.900000    1.000000    1.700000\n",
            "25%      3.100000    2.900000    3.000000    3.200000\n",
            "50%      5.800000    4.000000    6.000000    5.000000\n",
            "75%      9.000000    6.000000    8.000000    7.025000\n",
            "max     10.000000   10.000000   10.000000   10.000000\n"
          ]
        }
      ]
    },
    {
      "cell_type": "markdown",
      "source": [
        "##Matriz de correlaçãoes"
      ],
      "metadata": {
        "id": "cdLLhvVKhDfH"
      }
    },
    {
      "cell_type": "code",
      "source": [
        "notas_pca = notas[[\"finanças\", \"custos\", \"marketing\", \"atuária\"]]\n",
        "matriz_corr = pg.rcorr(notas_pca, method = 'pearson', upper = 'pval', decimals = 4, pval_stars = {0.01: '***', 0.05: '**', 0.10: '*'})\n",
        "print(matriz_corr)"
      ],
      "metadata": {
        "colab": {
          "base_uri": "https://localhost:8080/"
        },
        "id": "TilZ_Jv0hF89",
        "outputId": "47e9efe3-8f63-41c0-f68d-47cf7a6c2171"
      },
      "execution_count": 10,
      "outputs": [
        {
          "output_type": "stream",
          "name": "stdout",
          "text": [
            "          finanças  custos marketing atuária\n",
            "finanças         -     ***               ***\n",
            "custos      0.7556       -               ***\n",
            "marketing  -0.0295  0.0029         -        \n",
            "atuária     0.7109  0.8081   -0.0443       -\n"
          ]
        }
      ]
    },
    {
      "cell_type": "markdown",
      "source": [
        "outra maneira de plotar as mesmas informações"
      ],
      "metadata": {
        "id": "0P1UCAJehN_h"
      }
    },
    {
      "cell_type": "code",
      "source": [
        "corr = notas_pca.corr()\n",
        "\n",
        "f, ax = plt.subplots(figsize=(11, 9))\n",
        "\n",
        "mask = np.triu(np.ones_like(corr, dtype=bool))\n",
        "\n",
        "cmap = sns.diverging_palette(230, 20, n=256, as_cmap=True)\n",
        "\n",
        "sns.heatmap(notas.corr(), \n",
        "            mask=mask, \n",
        "            cmap=cmap, \n",
        "            vmax=1, \n",
        "            vmin = -.25,\n",
        "            center=0,\n",
        "            square=True, \n",
        "            linewidths=.5,\n",
        "            annot = True,\n",
        "            fmt='.3f', \n",
        "            annot_kws={'size': 16},\n",
        "            cbar_kws={\"shrink\": .75})\n",
        "\n",
        "plt.title('Matriz de correlação')\n",
        "plt.tight_layout()\n",
        "ax.tick_params(axis = 'x', labelsize = 14)\n",
        "ax.tick_params(axis = 'y', labelsize = 14)\n",
        "ax.set_ylim(len(corr))\n",
        "\n",
        "plt.show()"
      ],
      "metadata": {
        "colab": {
          "base_uri": "https://localhost:8080/",
          "height": 661
        },
        "id": "gD3qcH9yhTu5",
        "outputId": "eaab3687-0904-4387-b64e-a31b15ebaafc"
      },
      "execution_count": 11,
      "outputs": [
        {
          "output_type": "display_data",
          "data": {
            "text/plain": [
              "<Figure size 792x648 with 2 Axes>"
            ],
            "image/png": "[encoded data removed]"
          },
          "metadata": {
            "needs_background": "light"
          }
        }
      ]
    },
    {
      "cell_type": "markdown",
      "source": [
        "##Teste de Bartlett"
      ],
      "metadata": {
        "id": "wWUUfNz1hYj9"
      }
    },
    {
      "cell_type": "code",
      "source": [
        "bartlett, p_value = calculate_bartlett_sphericity(notas_pca)\n",
        "\n",
        "print(f'Bartlett statistic: {bartlett}')\n",
        "\n",
        "print(f'p-value : {p_value}')"
      ],
      "metadata": {
        "colab": {
          "base_uri": "https://localhost:8080/"
        },
        "id": "W_UE-dhLhcte",
        "outputId": "2708842e-f3d1-4dfb-f526-5350b277a8fb"
      },
      "execution_count": 12,
      "outputs": [
        {
          "output_type": "stream",
          "name": "stdout",
          "text": [
            "Bartlett statistic: 191.87909970380863\n",
            "p-value : 1.0139139940945954e-38\n"
          ]
        }
      ]
    },
    {
      "cell_type": "markdown",
      "source": [
        "##PCA"
      ],
      "metadata": {
        "id": "ueXk9HE4hhUF"
      }
    },
    {
      "cell_type": "markdown",
      "source": [
        "Definindo a PCA (procedimento preliminar)"
      ],
      "metadata": {
        "id": "ezJxFQ1WhzLg"
      }
    },
    {
      "cell_type": "code",
      "source": [
        "fa = FactorAnalyzer()\n",
        "fa.fit(notas_pca)"
      ],
      "metadata": {
        "colab": {
          "base_uri": "https://localhost:8080/"
        },
        "id": "0ngHEV2khxB7",
        "outputId": "41213a61-d658-419f-b30d-16a6449ccd2e"
      },
      "execution_count": 13,
      "outputs": [
        {
          "output_type": "execute_result",
          "data": {
            "text/plain": [
              "FactorAnalyzer(rotation_kwargs={})"
            ]
          },
          "metadata": {},
          "execution_count": 13
        }
      ]
    },
    {
      "cell_type": "markdown",
      "source": [
        "Obtendo os Eigenvalues (autovalores)"
      ],
      "metadata": {
        "id": "yq_euCbLh2iO"
      }
    },
    {
      "cell_type": "code",
      "source": [
        "ev, v = fa.get_eigenvalues()\n",
        "print(ev)# Temos 4 autovalores para este exemplo, pois são 4 variáveis"
      ],
      "metadata": {
        "colab": {
          "base_uri": "https://localhost:8080/"
        },
        "id": "JEdFRYlxh3EZ",
        "outputId": "a49f49d0-1a78-4c8f-b4af-6dc0970d70f7"
      },
      "execution_count": 14,
      "outputs": [
        {
          "output_type": "stream",
          "name": "stdout",
          "text": [
            "[2.51812681 1.0003793  0.29761585 0.18387804]\n"
          ]
        }
      ]
    },
    {
      "cell_type": "markdown",
      "source": [
        "Critério de Kaiser : \n",
        "* Verificar autovalores com valores maiores que 1\n",
        "* Existem dois componentes acima de 1"
      ],
      "metadata": {
        "id": "a9KvKXYUh-Eo"
      }
    },
    {
      "cell_type": "markdown",
      "source": [
        "Parametrizando a PCA para dois fatores (autovalores > 1)\n"
      ],
      "metadata": {
        "id": "zeDfhygBiMxV"
      }
    },
    {
      "cell_type": "code",
      "source": [
        "fa.set_params(n_factors = 2, method = 'principal', rotation = None)\n",
        "fa.fit(notas_pca)"
      ],
      "metadata": {
        "colab": {
          "base_uri": "https://localhost:8080/"
        },
        "id": "9H9oOQ49iN7M",
        "outputId": "19664986-a025-464b-d703-45b90117ab05"
      },
      "execution_count": 15,
      "outputs": [
        {
          "output_type": "execute_result",
          "data": {
            "text/plain": [
              "FactorAnalyzer(method='principal', n_factors=2, rotation=None,\n",
              "               rotation_kwargs={})"
            ]
          },
          "metadata": {},
          "execution_count": 15
        }
      ]
    },
    {
      "cell_type": "markdown",
      "source": [
        "Eigenvalues, variâncias e variâncias acumulada\n"
      ],
      "metadata": {
        "id": "hcJRyntQiRts"
      }
    },
    {
      "cell_type": "code",
      "source": [
        "eigen_fatores = fa.get_factor_variance()\n",
        "eigen_fatores\n",
        "\n",
        "tabela_eigen = pd.DataFrame(eigen_fatores)\n",
        "tabela_eigen.columns = [f\"Fator {i+1}\" for i, v in enumerate(tabela_eigen.columns)]\n",
        "tabela_eigen.index = ['Autovalor','Variância', 'Variância Acumulada']\n",
        "tabela_eigen = tabela_eigen.T\n",
        "print(tabela_eigen)"
      ],
      "metadata": {
        "colab": {
          "base_uri": "https://localhost:8080/"
        },
        "id": "rlLRP53QiRNV",
        "outputId": "636a5f49-464c-4440-dbbd-7dbb957d57de"
      },
      "execution_count": 18,
      "outputs": [
        {
          "output_type": "stream",
          "name": "stdout",
          "text": [
            "         Autovalor  Variância  Variância Acumulada\n",
            "Fator 1   2.518127   0.629532             0.629532\n",
            "Fator 2   1.000379   0.250095             0.879627\n"
          ]
        }
      ]
    },
    {
      "cell_type": "markdown",
      "source": [
        "Determinando as cargas fatoriais"
      ],
      "metadata": {
        "id": "nSdbMtP4igOf"
      }
    },
    {
      "cell_type": "code",
      "source": [
        "cargas_fatores = fa.loadings_\n",
        "tabela_cargas = pd.DataFrame(cargas_fatores)\n",
        "tabela_cargas.columns = [f\"Fator {i+1}\" for i, v in enumerate(tabela_cargas.columns)]\n",
        "tabela_cargas.index = notas_pca.columns\n",
        "tabela_cargas\n",
        "print(tabela_cargas)"
      ],
      "metadata": {
        "colab": {
          "base_uri": "https://localhost:8080/"
        },
        "id": "D6KgfVdhiMGp",
        "outputId": "eccde7d5-7293-4816-e58e-d51d54dd343a"
      },
      "execution_count": 19,
      "outputs": [
        {
          "output_type": "stream",
          "name": "stdout",
          "text": [
            "            Fator 1   Fator 2\n",
            "finanças   0.895398  0.007086\n",
            "custos     0.934033  0.048581\n",
            "marketing -0.042466  0.998933\n",
            "atuária    0.917697 -0.010133\n"
          ]
        }
      ]
    },
    {
      "cell_type": "markdown",
      "source": [
        "Determinando as comunalidades"
      ],
      "metadata": {
        "id": "5G6f_ATmikvI"
      }
    },
    {
      "cell_type": "code",
      "source": [
        "comunalidades = fa.get_communalities()\n",
        "tabela_comunalidades = pd.DataFrame(comunalidades)\n",
        "tabela_comunalidades.columns = ['Comunalidades']\n",
        "tabela_comunalidades.index = notas_pca.columns\n",
        "tabela_comunalidades\n",
        "print(tabela_comunalidades)"
      ],
      "metadata": {
        "colab": {
          "base_uri": "https://localhost:8080/"
        },
        "id": "pMBCGjdpimeM",
        "outputId": "7a4bce7a-58b1-4f75-cfbe-136f564de92c"
      },
      "execution_count": 20,
      "outputs": [
        {
          "output_type": "stream",
          "name": "stdout",
          "text": [
            "           Comunalidades\n",
            "finanças        0.801788\n",
            "custos          0.874778\n",
            "marketing       0.999670\n",
            "atuária         0.842271\n"
          ]
        }
      ]
    },
    {
      "cell_type": "markdown",
      "source": [
        "Resultados dos fatores para as observações do dataset (predict)"
      ],
      "metadata": {
        "id": "ILaaNMQvip3R"
      }
    },
    {
      "cell_type": "code",
      "source": [
        "predict_fatores= pd.DataFrame(fa.transform(notas_pca))\n",
        "predict_fatores.columns =  [f\"Fator {i+1}\" for i, v in enumerate(predict_fatores.columns)]\n",
        "print(predict_fatores)"
      ],
      "metadata": {
        "colab": {
          "base_uri": "https://localhost:8080/"
        },
        "id": "2PE9lbaVire2",
        "outputId": "792343d2-4876-4141-bc45-513b926c6900"
      },
      "execution_count": 21,
      "outputs": [
        {
          "output_type": "stream",
          "name": "stdout",
          "text": [
            "     Fator 1   Fator 2\n",
            "0   0.015232 -1.673452\n",
            "1  -1.082468  1.510196\n",
            "2  -0.603231 -0.607015\n",
            "3   1.352586  0.891321\n",
            "4  -0.984279 -0.926699\n",
            "..       ...       ...\n",
            "95  0.121867 -0.169227\n",
            "96  1.220881 -0.577316\n",
            "97  0.829146  0.499201\n",
            "98  1.186171 -0.918969\n",
            "99  0.807290 -1.299785\n",
            "\n",
            "[100 rows x 2 columns]\n"
          ]
        }
      ]
    },
    {
      "cell_type": "markdown",
      "source": [
        "Adicionando ao dataset \n"
      ],
      "metadata": {
        "id": "uJgOMP9TiwtD"
      }
    },
    {
      "cell_type": "code",
      "source": [
        "notas = pd.concat([notas.reset_index(drop=True), predict_fatores], axis=1)\n",
        "notas.head(5)"
      ],
      "metadata": {
        "colab": {
          "base_uri": "https://localhost:8080/",
          "height": 206
        },
        "id": "F-8scOU-iyC5",
        "outputId": "c92e0106-3080-4103-bba2-388cb135e3a5"
      },
      "execution_count": 26,
      "outputs": [
        {
          "output_type": "execute_result",
          "data": {
            "text/plain": [
              "     estudante  finanças  custos  marketing  atuária   Fator 1   Fator 2\n",
              "0     Gabriela       5.8     4.0        1.0      6.0  0.015232 -1.673452\n",
              "1  Luiz Felipe       3.1     3.0       10.0      2.0 -1.082468  1.510196\n",
              "2     Patrícia       3.1     4.0        4.0      4.0 -0.603231 -0.607015\n",
              "3      Gustavo      10.0     8.0        8.0      8.0  1.352586  0.891321\n",
              "4      Letícia       3.4     2.0        3.2      3.2 -0.984279 -0.926699"
            ],
            "text/html": [
              "\n",
              "  <div id=\"df-97399149-2a71-4781-a7b0-2c4f6a1441ba\">\n",
              "    <div class=\"colab-df-container\">\n",
              "      <div>\n",
              "<style scoped>\n",
              "    .dataframe tbody tr th:only-of-type {\n",
              "        vertical-align: middle;\n",
              "    }\n",
              "\n",
              "    .dataframe tbody tr th {\n",
              "        vertical-align: top;\n",
              "    }\n",
              "\n",
              "    .dataframe thead th {\n",
              "        text-align: right;\n",
              "    }\n",
              "</style>\n",
              "<table border=\"1\" class=\"dataframe\">\n",
              "  <thead>\n",
              "    <tr style=\"text-align: right;\">\n",
              "      <th></th>\n",
              "      <th>estudante</th>\n",
              "      <th>finanças</th>\n",
              "      <th>custos</th>\n",
              "      <th>marketing</th>\n",
              "      <th>atuária</th>\n",
              "      <th>Fator 1</th>\n",
              "      <th>Fator 2</th>\n",
              "    </tr>\n",
              "  </thead>\n",
              "  <tbody>\n",
              "    <tr>\n",
              "      <th>0</th>\n",
              "      <td>Gabriela</td>\n",
              "      <td>5.8</td>\n",
              "      <td>4.0</td>\n",
              "      <td>1.0</td>\n",
              "      <td>6.0</td>\n",
              "      <td>0.015232</td>\n",
              "      <td>-1.673452</td>\n",
              "    </tr>\n",
              "    <tr>\n",
              "      <th>1</th>\n",
              "      <td>Luiz Felipe</td>\n",
              "      <td>3.1</td>\n",
              "      <td>3.0</td>\n",
              "      <td>10.0</td>\n",
              "      <td>2.0</td>\n",
              "      <td>-1.082468</td>\n",
              "      <td>1.510196</td>\n",
              "    </tr>\n",
              "    <tr>\n",
              "      <th>2</th>\n",
              "      <td>Patrícia</td>\n",
              "      <td>3.1</td>\n",
              "      <td>4.0</td>\n",
              "      <td>4.0</td>\n",
              "      <td>4.0</td>\n",
              "      <td>-0.603231</td>\n",
              "      <td>-0.607015</td>\n",
              "    </tr>\n",
              "    <tr>\n",
              "      <th>3</th>\n",
              "      <td>Gustavo</td>\n",
              "      <td>10.0</td>\n",
              "      <td>8.0</td>\n",
              "      <td>8.0</td>\n",
              "      <td>8.0</td>\n",
              "      <td>1.352586</td>\n",
              "      <td>0.891321</td>\n",
              "    </tr>\n",
              "    <tr>\n",
              "      <th>4</th>\n",
              "      <td>Letícia</td>\n",
              "      <td>3.4</td>\n",
              "      <td>2.0</td>\n",
              "      <td>3.2</td>\n",
              "      <td>3.2</td>\n",
              "      <td>-0.984279</td>\n",
              "      <td>-0.926699</td>\n",
              "    </tr>\n",
              "  </tbody>\n",
              "</table>\n",
              "</div>\n",
              "      <button class=\"colab-df-convert\" onclick=\"convertToInteractive('df-97399149-2a71-4781-a7b0-2c4f6a1441ba')\"\n",
              "              title=\"Convert this dataframe to an interactive table.\"\n",
              "              style=\"display:none;\">\n",
              "        \n",
              "  <svg xmlns=\"http://www.w3.org/2000/svg\" height=\"24px\"viewBox=\"0 0 24 24\"\n",
              "       width=\"24px\">\n",
              "    <path d=\"M0 0h24v24H0V0z\" fill=\"none\"/>\n",
              "    <path d=\"M18.56 5.44l.94 2.06.94-2.06 2.06-.94-2.06-.94-.94-2.06-.94 2.06-2.06.94zm-11 1L8.5 8.5l.94-2.06 2.06-.94-2.06-.94L8.5 2.5l-.94 2.06-2.06.94zm10 10l.94 2.06.94-2.06 2.06-.94-2.06-.94-.94-2.06-.94 2.06-2.06.94z\"/><path d=\"M17.41 7.96l-1.37-1.37c-.4-.4-.92-.59-1.43-.59-.52 0-1.04.2-1.43.59L10.3 9.45l-7.72 7.72c-.78.78-.78 2.05 0 2.83L4 21.41c.39.39.9.59 1.41.59.51 0 1.02-.2 1.41-.59l7.78-7.78 2.81-2.81c.8-.78.8-2.07 0-2.86zM5.41 20L4 18.59l7.72-7.72 1.47 1.35L5.41 20z\"/>\n",
              "  </svg>\n",
              "      </button>\n",
              "      \n",
              "  <style>\n",
              "    .colab-df-container {\n",
              "      display:flex;\n",
              "      flex-wrap:wrap;\n",
              "      gap: 12px;\n",
              "    }\n",
              "\n",
              "    .colab-df-convert {\n",
              "      background-color: #E8F0FE;\n",
              "      border: none;\n",
              "      border-radius: 50%;\n",
              "      cursor: pointer;\n",
              "      display: none;\n",
              "      fill: #1967D2;\n",
              "      height: 32px;\n",
              "      padding: 0 0 0 0;\n",
              "      width: 32px;\n",
              "    }\n",
              "\n",
              "    .colab-df-convert:hover {\n",
              "      background-color: #E2EBFA;\n",
              "      box-shadow: 0px 1px 2px rgba(60, 64, 67, 0.3), 0px 1px 3px 1px rgba(60, 64, 67, 0.15);\n",
              "      fill: #174EA6;\n",
              "    }\n",
              "\n",
              "    [theme=dark] .colab-df-convert {\n",
              "      background-color: #3B4455;\n",
              "      fill: #D2E3FC;\n",
              "    }\n",
              "\n",
              "    [theme=dark] .colab-df-convert:hover {\n",
              "      background-color: #434B5C;\n",
              "      box-shadow: 0px 1px 3px 1px rgba(0, 0, 0, 0.15);\n",
              "      filter: drop-shadow(0px 1px 2px rgba(0, 0, 0, 0.3));\n",
              "      fill: #FFFFFF;\n",
              "    }\n",
              "  </style>\n",
              "\n",
              "      <script>\n",
              "        const buttonEl =\n",
              "          document.querySelector('#df-97399149-2a71-4781-a7b0-2c4f6a1441ba button.colab-df-convert');\n",
              "        buttonEl.style.display =\n",
              "          google.colab.kernel.accessAllowed ? 'block' : 'none';\n",
              "\n",
              "        async function convertToInteractive(key) {\n",
              "          const element = document.querySelector('#df-97399149-2a71-4781-a7b0-2c4f6a1441ba');\n",
              "          const dataTable =\n",
              "            await google.colab.kernel.invokeFunction('convertToInteractive',\n",
              "                                                     [key], {});\n",
              "          if (!dataTable) return;\n",
              "\n",
              "          const docLinkHtml = 'Like what you see? Visit the ' +\n",
              "            '<a target=\"_blank\" href=https://colab.research.google.com/notebooks/data_table.ipynb>data table notebook</a>'\n",
              "            + ' to learn more about interactive tables.';\n",
              "          element.innerHTML = '';\n",
              "          dataTable['output_type'] = 'display_data';\n",
              "          await google.colab.output.renderOutput(dataTable, element);\n",
              "          const docLink = document.createElement('div');\n",
              "          docLink.innerHTML = docLinkHtml;\n",
              "          element.appendChild(docLink);\n",
              "        }\n",
              "      </script>\n",
              "    </div>\n",
              "  </div>\n",
              "  "
            ]
          },
          "metadata": {},
          "execution_count": 26
        }
      ]
    },
    {
      "cell_type": "markdown",
      "source": [
        "Identificando os scores fatoriais"
      ],
      "metadata": {
        "id": "l9wfWnOAi07o"
      }
    },
    {
      "cell_type": "code",
      "source": [
        "scores = fa.weights_\n",
        "tabela_scores = pd.DataFrame(scores)\n",
        "tabela_scores.columns = [f\"Fator {i+1}\" for i, v in enumerate(tabela_scores.columns)]\n",
        "tabela_scores.index = notas_pca.columns\n",
        "tabela_scores\n",
        "print(tabela_scores)"
      ],
      "metadata": {
        "colab": {
          "base_uri": "https://localhost:8080/"
        },
        "id": "kW6vJkDQjCYx",
        "outputId": "8ac12892-be5e-40f3-99f2-abee6313692b"
      },
      "execution_count": 27,
      "outputs": [
        {
          "output_type": "stream",
          "name": "stdout",
          "text": [
            "            Fator 1   Fator 2\n",
            "finanças   0.355581  0.007083\n",
            "custos     0.370924  0.048562\n",
            "marketing -0.016864  0.998554\n",
            "atuária    0.364436 -0.010129\n"
          ]
        }
      ]
    },
    {
      "cell_type": "markdown",
      "source": [
        "Correlação entre os fatores\n",
        "*  A seguir, verifica-se que a correlação entre os fatores é zero (ortogonais)"
      ],
      "metadata": {
        "id": "mI_5dW0KjIKs"
      }
    },
    {
      "cell_type": "code",
      "source": [
        "corr_fator = pg.rcorr(notas[['Fator 1','Fator 2']], method = 'pearson', upper = 'pval', decimals = 4, pval_stars = {0.01: '***', 0.05: '**', 0.10: '*'})\n",
        "print(corr_fator)"
      ],
      "metadata": {
        "colab": {
          "base_uri": "https://localhost:8080/"
        },
        "id": "lcLDlZFwjL6d",
        "outputId": "a885fb77-2b7c-4051-e042-a13d358fa3e8"
      },
      "execution_count": 28,
      "outputs": [
        {
          "output_type": "stream",
          "name": "stdout",
          "text": [
            "        Fator 1 Fator 2\n",
            "Fator 1       -        \n",
            "Fator 2     0.0       -\n"
          ]
        }
      ]
    },
    {
      "cell_type": "markdown",
      "source": [
        "##Criando um ranking"
      ],
      "metadata": {
        "id": "XKR91zAujOaO"
      }
    },
    {
      "cell_type": "code",
      "source": [
        "notas['Ranking'] = 0\n",
        "\n",
        "for index, item in enumerate(list(tabela_eigen.index)):\n",
        "    variancia = tabela_eigen.loc[item]['Variância']\n",
        "\n",
        "    notas['Ranking'] = notas['Ranking'] + notas[tabela_eigen.index[index]]*variancia\n",
        "    \n",
        "print(notas)"
      ],
      "metadata": {
        "colab": {
          "base_uri": "https://localhost:8080/"
        },
        "id": "rR42TGlfjRgS",
        "outputId": "0db3a5aa-982f-4ecf-a629-0afa8d961362"
      },
      "execution_count": 29,
      "outputs": [
        {
          "output_type": "stream",
          "name": "stdout",
          "text": [
            "      estudante  finanças  custos  marketing  atuária   Fator 1   Fator 2  \\\n",
            "0      Gabriela       5.8     4.0        1.0      6.0  0.015232 -1.673452   \n",
            "1   Luiz Felipe       3.1     3.0       10.0      2.0 -1.082468  1.510196   \n",
            "2      Patrícia       3.1     4.0        4.0      4.0 -0.603231 -0.607015   \n",
            "3       Gustavo      10.0     8.0        8.0      8.0  1.352586  0.891321   \n",
            "4       Letícia       3.4     2.0        3.2      3.2 -0.984279 -0.926699   \n",
            "..          ...       ...     ...        ...      ...       ...       ...   \n",
            "95       Sheila       7.7     4.3        5.2      5.1  0.121867 -0.169227   \n",
            "96        Pedro       9.0     6.0        4.0      9.8  1.220881 -0.577316   \n",
            "97      Horácio       9.3     6.0        7.0      7.0  0.829146  0.499201   \n",
            "98      Leandro       9.0     6.5        3.0      9.0  1.186171 -0.918969   \n",
            "99       Estela       8.9     5.0        2.0      8.0  0.807290 -1.299785   \n",
            "\n",
            "     Ranking  \n",
            "0  -0.408932  \n",
            "1  -0.303756  \n",
            "2  -0.531564  \n",
            "3   1.074410  \n",
            "4  -0.851397  \n",
            "..       ...  \n",
            "95  0.034396  \n",
            "96  0.624200  \n",
            "97  0.646821  \n",
            "98  0.516903  \n",
            "99  0.183145  \n",
            "\n",
            "[100 rows x 8 columns]\n"
          ]
        }
      ]
    },
    {
      "cell_type": "markdown",
      "source": [
        "Gráfico das cargas fatoriais e suas variâncias nos componentes principais\n"
      ],
      "metadata": {
        "id": "jzNmyqzljV_d"
      }
    },
    {
      "cell_type": "code",
      "source": [
        "import matplotlib.pyplot as plt\n",
        "plt.figure(figsize=(12,8))\n",
        "tabela_cargas_chart = tabela_cargas.reset_index()\n",
        "plt.scatter(tabela_cargas_chart['Fator 1'], tabela_cargas_chart['Fator 2'], s=30)\n",
        "def label_point(x, y, val, ax):\n",
        "    a = pd.concat({'x': x, 'y': y, 'val': val}, axis=1)\n",
        "    for i, point in a.iterrows():\n",
        "        ax.text(point['x'] + 0.05, point['y'], point['val'])\n",
        "label_point(x = tabela_cargas_chart['Fator 1'],\n",
        "            y = tabela_cargas_chart['Fator 2'],\n",
        "            val = tabela_cargas_chart['index'],\n",
        "            ax = plt.gca()) \n",
        "plt.axhline(y=0, color='black', ls='--')\n",
        "plt.axvline(x=0, color='black', ls='--')\n",
        "plt.ylim([-1.5,1.5])\n",
        "plt.xlim([-1.5,1.5])\n",
        "plt.title(f\"{tabela_eigen.shape[0]} componentes principais que explicam {round(tabela_eigen['Variância'].sum()*100,2)}% da variância\", fontsize=14)\n",
        "plt.xlabel(f\"PC 1: {round(tabela_eigen.iloc[0]['Variância']*100,2)}% de variância explicada\", fontsize=14)\n",
        "plt.ylabel(f\"PC 2: {round(tabela_eigen.iloc[1]['Variância']*100,2)}% de variância explicada\", fontsize=14)\n",
        "plt.show()"
      ],
      "metadata": {
        "colab": {
          "base_uri": "https://localhost:8080/",
          "height": 519
        },
        "id": "KePwcZG1jY_5",
        "outputId": "5e0605ec-f311-4b97-e2a6-0821890f090b"
      },
      "execution_count": 30,
      "outputs": [
        {
          "output_type": "display_data",
          "data": {
            "text/plain": [
              "<Figure size 864x576 with 1 Axes>"
            ],
            "image/png": "[encoded data removed]"
          },
          "metadata": {
            "needs_background": "light"
          }
        }
      ]
    },
    {
      "cell_type": "markdown",
      "source": [
        "Gráfico da variância acumulada dos componentes principais"
      ],
      "metadata": {
        "id": "2JFGMsdAjlRt"
      }
    },
    {
      "cell_type": "code",
      "source": [
        "\n",
        "plt.figure(figsize=(12,8))\n",
        "plt.title(f\"{tabela_eigen.shape[0]} componentes principais que explicam {round(tabela_eigen['Variância'].sum()*100,2)}% da variância\", fontsize=14)\n",
        "sns.barplot(x=tabela_eigen.index, y=tabela_eigen['Variância'], data=tabela_eigen, color='green')\n",
        "plt.xlabel(\"Componentes principais\", fontsize=14)\n",
        "plt.ylabel(\"Porcentagem de variância explicada\", fontsize=14)\n",
        "plt.show()"
      ],
      "metadata": {
        "colab": {
          "base_uri": "https://localhost:8080/",
          "height": 518
        },
        "id": "jfBIf2bcjhI2",
        "outputId": "cae95abb-ec1f-455b-ae3f-cf5c39418604"
      },
      "execution_count": 31,
      "outputs": [
        {
          "output_type": "display_data",
          "data": {
            "text/plain": [
              "<Figure size 864x576 with 1 Axes>"
            ],
            "image/png": "[encoded data removed]"
          },
          "metadata": {
            "needs_background": "light"
          }
        }
      ]
    }
  ]
}